{
 "cells": [
  {
   "cell_type": "code",
   "execution_count": 69,
   "id": "f9eac1e7",
   "metadata": {},
   "outputs": [],
   "source": [
    "import random\n",
    "import matplotlib.pyplot as plt\n",
    "from collections import Counter"
   ]
  },
  {
   "cell_type": "code",
   "execution_count": 70,
   "id": "eaba23b9",
   "metadata": {},
   "outputs": [
    {
     "data": {
      "text/plain": [
       "'Elizabeth'"
      ]
     },
     "execution_count": 70,
     "metadata": {},
     "output_type": "execute_result"
    }
   ],
   "source": [
    "entries = ['Keith', 'Mark', 'Christine', 'Joe', 'Elizabeth']\n",
    "random.choice(entries)"
   ]
  },
  {
   "cell_type": "code",
   "execution_count": 71,
   "id": "a12b3f8c",
   "metadata": {},
   "outputs": [],
   "source": [
    "def coinflips_50():\n",
    "    heads=0\n",
    "    for i in range(50):\n",
    "        toss = random.random()\n",
    "        if toss < 0.5:\n",
    "            heads+=1\n",
    "    return heads\n",
    "\n",
    "def trials(n):\n",
    "    results = []\n",
    "    for i in range(n):\n",
    "        result = coinflips_50()\n",
    "        results.append(result)\n",
    "    return results"
   ]
  },
  {
   "cell_type": "code",
   "execution_count": 84,
   "id": "a67c6049",
   "metadata": {},
   "outputs": [],
   "source": [
    "trial_results = trials(1000000)"
   ]
  },
  {
   "cell_type": "code",
   "execution_count": 85,
   "id": "f9efef81",
   "metadata": {},
   "outputs": [],
   "source": [
    "results = Counter(trial_results)"
   ]
  },
  {
   "cell_type": "code",
   "execution_count": 86,
   "id": "f69ebc1a",
   "metadata": {},
   "outputs": [
    {
     "data": {
      "text/plain": [
       "<matplotlib.collections.PathCollection at 0x7fafa48b0fd0>"
      ]
     },
     "execution_count": 86,
     "metadata": {},
     "output_type": "execute_result"
    },
    {
     "data": {
      "image/png": "[encoded data removed]",
      "text/plain": [
       "<Figure size 432x288 with 1 Axes>"
      ]
     },
     "metadata": {
      "needs_background": "light"
     },
     "output_type": "display_data"
    }
   ],
   "source": [
    "plt.scatter(results.keys(), results.values())"
   ]
  },
  {
   "cell_type": "code",
   "execution_count": null,
   "id": "c0bf4e51",
   "metadata": {},
   "outputs": [],
   "source": []
  }
 ],
 "metadata": {
  "kernelspec": {
   "display_name": "Python 3 (ipykernel)",
   "language": "python",
   "name": "python3"
  },
  "language_info": {
   "codemirror_mode": {
    "name": "ipython",
    "version": 3
   },
   "file_extension": ".py",
   "mimetype": "text/x-python",
   "name": "python",
   "nbconvert_exporter": "python",
   "pygments_lexer": "ipython3",
   "version": "3.8.10"
  }
 },
 "nbformat": 4,
 "nbformat_minor": 5
}
