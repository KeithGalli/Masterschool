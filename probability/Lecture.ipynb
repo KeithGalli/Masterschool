{
 "cells": [
  {
   "cell_type": "markdown",
   "id": "8c41fb30",
   "metadata": {},
   "source": [
    "##### Some useful libraries"
   ]
  },
  {
   "cell_type": "code",
   "execution_count": 1,
   "id": "f9eac1e7",
   "metadata": {},
   "outputs": [],
   "source": [
    "import random\n",
    "import matplotlib.pyplot as plt\n",
    "from collections import Counter"
   ]
  },
  {
   "cell_type": "markdown",
   "id": "16e1ea43",
   "metadata": {},
   "source": [
    "##### Randomly generate a value between 0 and 1"
   ]
  },
  {
   "cell_type": "code",
   "execution_count": 2,
   "id": "3321ca14",
   "metadata": {},
   "outputs": [
    {
     "data": {
      "text/plain": [
       "0.6820267888973884"
      ]
     },
     "execution_count": 2,
     "metadata": {},
     "output_type": "execute_result"
    }
   ],
   "source": [
    "random.random()"
   ]
  },
  {
   "cell_type": "markdown",
   "id": "e6a8a7cd",
   "metadata": {},
   "source": [
    "##### Randomly select an integer from a set range"
   ]
  },
  {
   "cell_type": "code",
   "execution_count": 3,
   "id": "60f4bcfc",
   "metadata": {},
   "outputs": [
    {
     "data": {
      "text/plain": [
       "172"
      ]
     },
     "execution_count": 3,
     "metadata": {},
     "output_type": "execute_result"
    }
   ],
   "source": [
    "random.randint(0,250)"
   ]
  },
  {
   "cell_type": "markdown",
   "id": "e8c8e4f0",
   "metadata": {},
   "source": [
    "##### Pick a random item from a list"
   ]
  },
  {
   "cell_type": "code",
   "execution_count": 4,
   "id": "eaba23b9",
   "metadata": {},
   "outputs": [
    {
     "data": {
      "text/plain": [
       "'Mark'"
      ]
     },
     "execution_count": 4,
     "metadata": {},
     "output_type": "execute_result"
    }
   ],
   "source": [
    "entries = ['Keith', 'Mark', 'Christine', 'Joe', 'Elizabeth']\n",
    "random.choice(entries)"
   ]
  },
  {
   "cell_type": "markdown",
   "id": "a6159ae2",
   "metadata": {},
   "source": [
    "##### Simulate coinflips with Python!"
   ]
  },
  {
   "cell_type": "code",
   "execution_count": 5,
   "id": "a12b3f8c",
   "metadata": {},
   "outputs": [],
   "source": [
    "def coinflips_50():\n",
    "    heads=0\n",
    "    for i in range(50):\n",
    "        toss = random.random()\n",
    "        if toss < 0.5:\n",
    "            heads+=1\n",
    "    return heads\n",
    "\n",
    "def trials(n):\n",
    "    results = []\n",
    "    for i in range(n):\n",
    "        result = coinflips_50()\n",
    "        results.append(result)\n",
    "    return results"
   ]
  },
  {
   "cell_type": "code",
   "execution_count": 6,
   "id": "a67c6049",
   "metadata": {},
   "outputs": [],
   "source": [
    "trial_results = trials(1000000)"
   ]
  },
  {
   "cell_type": "code",
   "execution_count": 7,
   "id": "f9efef81",
   "metadata": {},
   "outputs": [],
   "source": [
    "results = Counter(trial_results)"
   ]
  },
  {
   "cell_type": "code",
   "execution_count": 8,
   "id": "f69ebc1a",
   "metadata": {},
   "outputs": [
    {
     "data": {
      "text/plain": [
       "<matplotlib.collections.PathCollection at 0x7fd1ba3a0c10>"
      ]
     },
     "execution_count": 8,
     "metadata": {},
     "output_type": "execute_result"
    },
    {
     "data": {
      "image/png": "[encoded data removed]",
      "text/plain": [
       "<Figure size 432x288 with 1 Axes>"
      ]
     },
     "metadata": {
      "needs_background": "light"
     },
     "output_type": "display_data"
    }
   ],
   "source": [
    "plt.scatter(results.keys(), results.values())"
   ]
  },
  {
   "cell_type": "code",
   "execution_count": null,
   "id": "c0bf4e51",
   "metadata": {},
   "outputs": [],
   "source": []
  }
 ],
 "metadata": {
  "kernelspec": {
   "display_name": "Python 3 (ipykernel)",
   "language": "python",
   "name": "python3"
  },
  "language_info": {
   "codemirror_mode": {
    "name": "ipython",
    "version": 3
   },
   "file_extension": ".py",
   "mimetype": "text/x-python",
   "name": "python",
   "nbconvert_exporter": "python",
   "pygments_lexer": "ipython3",
   "version": "3.8.10"
  }
 },
 "nbformat": 4,
 "nbformat_minor": 5
}
