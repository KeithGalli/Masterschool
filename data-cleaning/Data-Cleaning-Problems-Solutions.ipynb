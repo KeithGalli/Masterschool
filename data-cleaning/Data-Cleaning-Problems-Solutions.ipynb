{
 "cells": [
  {
   "cell_type": "markdown",
   "id": "c13ee1a1",
   "metadata": {},
   "source": [
    "# Data Cleaning Practice\n",
    "\n",
    "The following is a series of exercises that you might see data cleaning in the real-world. These exercises have varying degrees of difficulty. I'll post solutions to each exercise on GitHub after the lecture."
   ]
  },
  {
   "cell_type": "markdown",
   "id": "b16632ae",
   "metadata": {},
   "source": [
    "### Setup"
   ]
  },
  {
   "cell_type": "code",
   "execution_count": 1,
   "id": "24ebedbc",
   "metadata": {},
   "outputs": [],
   "source": [
    "import pandas as pd"
   ]
  },
  {
   "cell_type": "markdown",
   "id": "33068a40",
   "metadata": {},
   "source": [
    "## Exercise #1: Create separate month, day, and year columns"
   ]
  },
  {
   "cell_type": "code",
   "execution_count": 41,
   "id": "c8797e81",
   "metadata": {},
   "outputs": [],
   "source": [
    "df = pd.read_csv('./data/example1.csv')"
   ]
  },
  {
   "cell_type": "code",
   "execution_count": 42,
   "id": "4bc5a30b",
   "metadata": {},
   "outputs": [
    {
     "data": {
      "text/html": [
       "<div>\n",
       "<style scoped>\n",
       "    .dataframe tbody tr th:only-of-type {\n",
       "        vertical-align: middle;\n",
       "    }\n",
       "\n",
       "    .dataframe tbody tr th {\n",
       "        vertical-align: top;\n",
       "    }\n",
       "\n",
       "    .dataframe thead th {\n",
       "        text-align: right;\n",
       "    }\n",
       "</style>\n",
       "<table border=\"1\" class=\"dataframe\">\n",
       "  <thead>\n",
       "    <tr style=\"text-align: right;\">\n",
       "      <th></th>\n",
       "      <th>date</th>\n",
       "      <th>sales</th>\n",
       "    </tr>\n",
       "  </thead>\n",
       "  <tbody>\n",
       "    <tr>\n",
       "      <th>0</th>\n",
       "      <td>Jul 26, 2021</td>\n",
       "      <td>1</td>\n",
       "    </tr>\n",
       "    <tr>\n",
       "      <th>1</th>\n",
       "      <td>Jul 25, 2021</td>\n",
       "      <td>3</td>\n",
       "    </tr>\n",
       "    <tr>\n",
       "      <th>2</th>\n",
       "      <td>Oct 26, 2020</td>\n",
       "      <td>3</td>\n",
       "    </tr>\n",
       "    <tr>\n",
       "      <th>3</th>\n",
       "      <td>Feb 10, 2021</td>\n",
       "      <td>1</td>\n",
       "    </tr>\n",
       "    <tr>\n",
       "      <th>4</th>\n",
       "      <td>Sep 11, 2020</td>\n",
       "      <td>5</td>\n",
       "    </tr>\n",
       "  </tbody>\n",
       "</table>\n",
       "</div>"
      ],
      "text/plain": [
       "           date  sales\n",
       "0  Jul 26, 2021      1\n",
       "1  Jul 25, 2021      3\n",
       "2  Oct 26, 2020      3\n",
       "3  Feb 10, 2021      1\n",
       "4  Sep 11, 2020      5"
      ]
     },
     "execution_count": 42,
     "metadata": {},
     "output_type": "execute_result"
    }
   ],
   "source": [
    "df.head()"
   ]
  },
  {
   "cell_type": "code",
   "execution_count": 43,
   "id": "8d55b50b",
   "metadata": {},
   "outputs": [],
   "source": [
    "df['date'] = pd.to_datetime(df['date'])"
   ]
  },
  {
   "cell_type": "code",
   "execution_count": 44,
   "id": "9eba4704",
   "metadata": {
    "scrolled": true
   },
   "outputs": [],
   "source": [
    "df['month'] = df['date'].dt.month\n",
    "df['day'] = df['date'].dt.day\n",
    "df['year'] = df['date'].dt.year\n",
    "df['new-date'] = df['date'].dt.strftime('It is %b %d, %Y')"
   ]
  },
  {
   "cell_type": "code",
   "execution_count": 45,
   "id": "c5be325e",
   "metadata": {},
   "outputs": [
    {
     "data": {
      "text/html": [
       "<div>\n",
       "<style scoped>\n",
       "    .dataframe tbody tr th:only-of-type {\n",
       "        vertical-align: middle;\n",
       "    }\n",
       "\n",
       "    .dataframe tbody tr th {\n",
       "        vertical-align: top;\n",
       "    }\n",
       "\n",
       "    .dataframe thead th {\n",
       "        text-align: right;\n",
       "    }\n",
       "</style>\n",
       "<table border=\"1\" class=\"dataframe\">\n",
       "  <thead>\n",
       "    <tr style=\"text-align: right;\">\n",
       "      <th></th>\n",
       "      <th>date</th>\n",
       "      <th>sales</th>\n",
       "      <th>month</th>\n",
       "      <th>day</th>\n",
       "      <th>year</th>\n",
       "      <th>new-date</th>\n",
       "    </tr>\n",
       "  </thead>\n",
       "  <tbody>\n",
       "    <tr>\n",
       "      <th>0</th>\n",
       "      <td>2021-07-26</td>\n",
       "      <td>1</td>\n",
       "      <td>7</td>\n",
       "      <td>26</td>\n",
       "      <td>2021</td>\n",
       "      <td>It is Jul 26, 2021</td>\n",
       "    </tr>\n",
       "    <tr>\n",
       "      <th>1</th>\n",
       "      <td>2021-07-25</td>\n",
       "      <td>3</td>\n",
       "      <td>7</td>\n",
       "      <td>25</td>\n",
       "      <td>2021</td>\n",
       "      <td>It is Jul 25, 2021</td>\n",
       "    </tr>\n",
       "    <tr>\n",
       "      <th>2</th>\n",
       "      <td>2020-10-26</td>\n",
       "      <td>3</td>\n",
       "      <td>10</td>\n",
       "      <td>26</td>\n",
       "      <td>2020</td>\n",
       "      <td>It is Oct 26, 2020</td>\n",
       "    </tr>\n",
       "    <tr>\n",
       "      <th>3</th>\n",
       "      <td>2021-02-10</td>\n",
       "      <td>1</td>\n",
       "      <td>2</td>\n",
       "      <td>10</td>\n",
       "      <td>2021</td>\n",
       "      <td>It is Feb 10, 2021</td>\n",
       "    </tr>\n",
       "    <tr>\n",
       "      <th>4</th>\n",
       "      <td>2020-09-11</td>\n",
       "      <td>5</td>\n",
       "      <td>9</td>\n",
       "      <td>11</td>\n",
       "      <td>2020</td>\n",
       "      <td>It is Sep 11, 2020</td>\n",
       "    </tr>\n",
       "  </tbody>\n",
       "</table>\n",
       "</div>"
      ],
      "text/plain": [
       "        date  sales  month  day  year            new-date\n",
       "0 2021-07-26      1      7   26  2021  It is Jul 26, 2021\n",
       "1 2021-07-25      3      7   25  2021  It is Jul 25, 2021\n",
       "2 2020-10-26      3     10   26  2020  It is Oct 26, 2020\n",
       "3 2021-02-10      1      2   10  2021  It is Feb 10, 2021\n",
       "4 2020-09-11      5      9   11  2020  It is Sep 11, 2020"
      ]
     },
     "execution_count": 45,
     "metadata": {},
     "output_type": "execute_result"
    }
   ],
   "source": [
    "df.head()"
   ]
  },
  {
   "cell_type": "markdown",
   "id": "afc7dedb",
   "metadata": {},
   "source": [
    "## Exercise #2: Convert 'date' column to type datetime"
   ]
  },
  {
   "cell_type": "code",
   "execution_count": 46,
   "id": "c133c467",
   "metadata": {},
   "outputs": [],
   "source": [
    "df = pd.read_csv('./data/example2.csv')"
   ]
  },
  {
   "cell_type": "code",
   "execution_count": 47,
   "id": "9459be37",
   "metadata": {},
   "outputs": [
    {
     "data": {
      "text/html": [
       "<div>\n",
       "<style scoped>\n",
       "    .dataframe tbody tr th:only-of-type {\n",
       "        vertical-align: middle;\n",
       "    }\n",
       "\n",
       "    .dataframe tbody tr th {\n",
       "        vertical-align: top;\n",
       "    }\n",
       "\n",
       "    .dataframe thead th {\n",
       "        text-align: right;\n",
       "    }\n",
       "</style>\n",
       "<table border=\"1\" class=\"dataframe\">\n",
       "  <thead>\n",
       "    <tr style=\"text-align: right;\">\n",
       "      <th></th>\n",
       "      <th>date</th>\n",
       "      <th>sales</th>\n",
       "    </tr>\n",
       "  </thead>\n",
       "  <tbody>\n",
       "    <tr>\n",
       "      <th>0</th>\n",
       "      <td>11-26-2020</td>\n",
       "      <td>1</td>\n",
       "    </tr>\n",
       "    <tr>\n",
       "      <th>1</th>\n",
       "      <td>Jun 13, 2021</td>\n",
       "      <td>1</td>\n",
       "    </tr>\n",
       "    <tr>\n",
       "      <th>2</th>\n",
       "      <td>05-27-2020</td>\n",
       "      <td>3</td>\n",
       "    </tr>\n",
       "    <tr>\n",
       "      <th>3</th>\n",
       "      <td>12-23-2020</td>\n",
       "      <td>3</td>\n",
       "    </tr>\n",
       "    <tr>\n",
       "      <th>4</th>\n",
       "      <td>01-26-2020</td>\n",
       "      <td>2</td>\n",
       "    </tr>\n",
       "  </tbody>\n",
       "</table>\n",
       "</div>"
      ],
      "text/plain": [
       "           date  sales\n",
       "0    11-26-2020      1\n",
       "1  Jun 13, 2021      1\n",
       "2    05-27-2020      3\n",
       "3    12-23-2020      3\n",
       "4    01-26-2020      2"
      ]
     },
     "execution_count": 47,
     "metadata": {},
     "output_type": "execute_result"
    }
   ],
   "source": [
    "df.head()"
   ]
  },
  {
   "cell_type": "code",
   "execution_count": 48,
   "id": "a40f8e03",
   "metadata": {},
   "outputs": [],
   "source": [
    "df['date'] = pd.to_datetime(df['date'])"
   ]
  },
  {
   "cell_type": "code",
   "execution_count": 49,
   "id": "e17d9400",
   "metadata": {
    "scrolled": true
   },
   "outputs": [
    {
     "data": {
      "text/html": [
       "<div>\n",
       "<style scoped>\n",
       "    .dataframe tbody tr th:only-of-type {\n",
       "        vertical-align: middle;\n",
       "    }\n",
       "\n",
       "    .dataframe tbody tr th {\n",
       "        vertical-align: top;\n",
       "    }\n",
       "\n",
       "    .dataframe thead th {\n",
       "        text-align: right;\n",
       "    }\n",
       "</style>\n",
       "<table border=\"1\" class=\"dataframe\">\n",
       "  <thead>\n",
       "    <tr style=\"text-align: right;\">\n",
       "      <th></th>\n",
       "      <th>date</th>\n",
       "      <th>sales</th>\n",
       "    </tr>\n",
       "  </thead>\n",
       "  <tbody>\n",
       "    <tr>\n",
       "      <th>0</th>\n",
       "      <td>2020-11-26</td>\n",
       "      <td>1</td>\n",
       "    </tr>\n",
       "    <tr>\n",
       "      <th>1</th>\n",
       "      <td>2021-06-13</td>\n",
       "      <td>1</td>\n",
       "    </tr>\n",
       "    <tr>\n",
       "      <th>2</th>\n",
       "      <td>2020-05-27</td>\n",
       "      <td>3</td>\n",
       "    </tr>\n",
       "    <tr>\n",
       "      <th>3</th>\n",
       "      <td>2020-12-23</td>\n",
       "      <td>3</td>\n",
       "    </tr>\n",
       "    <tr>\n",
       "      <th>4</th>\n",
       "      <td>2020-01-26</td>\n",
       "      <td>2</td>\n",
       "    </tr>\n",
       "  </tbody>\n",
       "</table>\n",
       "</div>"
      ],
      "text/plain": [
       "        date  sales\n",
       "0 2020-11-26      1\n",
       "1 2021-06-13      1\n",
       "2 2020-05-27      3\n",
       "3 2020-12-23      3\n",
       "4 2020-01-26      2"
      ]
     },
     "execution_count": 49,
     "metadata": {},
     "output_type": "execute_result"
    }
   ],
   "source": [
    "df.head()"
   ]
  },
  {
   "cell_type": "markdown",
   "id": "3dd0f498",
   "metadata": {},
   "source": [
    "## Exercise #3: Create full month name column (January, February, March, ...etc)"
   ]
  },
  {
   "cell_type": "code",
   "execution_count": 50,
   "id": "7152b524",
   "metadata": {},
   "outputs": [],
   "source": [
    "df = pd.read_csv('./data/example3.csv')"
   ]
  },
  {
   "cell_type": "code",
   "execution_count": 51,
   "id": "b28671da",
   "metadata": {},
   "outputs": [
    {
     "data": {
      "text/html": [
       "<div>\n",
       "<style scoped>\n",
       "    .dataframe tbody tr th:only-of-type {\n",
       "        vertical-align: middle;\n",
       "    }\n",
       "\n",
       "    .dataframe tbody tr th {\n",
       "        vertical-align: top;\n",
       "    }\n",
       "\n",
       "    .dataframe thead th {\n",
       "        text-align: right;\n",
       "    }\n",
       "</style>\n",
       "<table border=\"1\" class=\"dataframe\">\n",
       "  <thead>\n",
       "    <tr style=\"text-align: right;\">\n",
       "      <th></th>\n",
       "      <th>date</th>\n",
       "      <th>sales</th>\n",
       "    </tr>\n",
       "  </thead>\n",
       "  <tbody>\n",
       "    <tr>\n",
       "      <th>0</th>\n",
       "      <td>~~ Jan.09.2020 ~~</td>\n",
       "      <td>2</td>\n",
       "    </tr>\n",
       "    <tr>\n",
       "      <th>1</th>\n",
       "      <td>~~ Jan.20.2021 ~~</td>\n",
       "      <td>3</td>\n",
       "    </tr>\n",
       "    <tr>\n",
       "      <th>2</th>\n",
       "      <td>04-20-2020</td>\n",
       "      <td>2</td>\n",
       "    </tr>\n",
       "    <tr>\n",
       "      <th>3</th>\n",
       "      <td>~~ Apr.13.2020 ~~</td>\n",
       "      <td>3</td>\n",
       "    </tr>\n",
       "    <tr>\n",
       "      <th>4</th>\n",
       "      <td>14-02-21</td>\n",
       "      <td>3</td>\n",
       "    </tr>\n",
       "  </tbody>\n",
       "</table>\n",
       "</div>"
      ],
      "text/plain": [
       "                date  sales\n",
       "0  ~~ Jan.09.2020 ~~      2\n",
       "1  ~~ Jan.20.2021 ~~      3\n",
       "2         04-20-2020      2\n",
       "3  ~~ Apr.13.2020 ~~      3\n",
       "4           14-02-21      3"
      ]
     },
     "execution_count": 51,
     "metadata": {},
     "output_type": "execute_result"
    }
   ],
   "source": [
    "df.head()"
   ]
  },
  {
   "cell_type": "code",
   "execution_count": 52,
   "id": "eea7b652",
   "metadata": {},
   "outputs": [],
   "source": [
    "df['date'] = df['date'].str.strip('~')"
   ]
  },
  {
   "cell_type": "code",
   "execution_count": 53,
   "id": "5577f0ea",
   "metadata": {
    "scrolled": true
   },
   "outputs": [],
   "source": [
    "df['date'] = pd.to_datetime(df['date'])"
   ]
  },
  {
   "cell_type": "code",
   "execution_count": 54,
   "id": "7b2f6df4",
   "metadata": {},
   "outputs": [],
   "source": [
    "df['month'] = df['date'].dt.strftime('%B')"
   ]
  },
  {
   "cell_type": "code",
   "execution_count": 55,
   "id": "6d7db2b9",
   "metadata": {},
   "outputs": [
    {
     "data": {
      "text/html": [
       "<div>\n",
       "<style scoped>\n",
       "    .dataframe tbody tr th:only-of-type {\n",
       "        vertical-align: middle;\n",
       "    }\n",
       "\n",
       "    .dataframe tbody tr th {\n",
       "        vertical-align: top;\n",
       "    }\n",
       "\n",
       "    .dataframe thead th {\n",
       "        text-align: right;\n",
       "    }\n",
       "</style>\n",
       "<table border=\"1\" class=\"dataframe\">\n",
       "  <thead>\n",
       "    <tr style=\"text-align: right;\">\n",
       "      <th></th>\n",
       "      <th>date</th>\n",
       "      <th>sales</th>\n",
       "      <th>month</th>\n",
       "    </tr>\n",
       "  </thead>\n",
       "  <tbody>\n",
       "    <tr>\n",
       "      <th>0</th>\n",
       "      <td>2020-01-09</td>\n",
       "      <td>2</td>\n",
       "      <td>January</td>\n",
       "    </tr>\n",
       "    <tr>\n",
       "      <th>1</th>\n",
       "      <td>2021-01-20</td>\n",
       "      <td>3</td>\n",
       "      <td>January</td>\n",
       "    </tr>\n",
       "    <tr>\n",
       "      <th>2</th>\n",
       "      <td>2020-04-20</td>\n",
       "      <td>2</td>\n",
       "      <td>April</td>\n",
       "    </tr>\n",
       "    <tr>\n",
       "      <th>3</th>\n",
       "      <td>2020-04-13</td>\n",
       "      <td>3</td>\n",
       "      <td>April</td>\n",
       "    </tr>\n",
       "    <tr>\n",
       "      <th>4</th>\n",
       "      <td>2021-02-14</td>\n",
       "      <td>3</td>\n",
       "      <td>February</td>\n",
       "    </tr>\n",
       "  </tbody>\n",
       "</table>\n",
       "</div>"
      ],
      "text/plain": [
       "        date  sales     month\n",
       "0 2020-01-09      2   January\n",
       "1 2021-01-20      3   January\n",
       "2 2020-04-20      2     April\n",
       "3 2020-04-13      3     April\n",
       "4 2021-02-14      3  February"
      ]
     },
     "execution_count": 55,
     "metadata": {},
     "output_type": "execute_result"
    }
   ],
   "source": [
    "df.head()"
   ]
  },
  {
   "cell_type": "markdown",
   "id": "d0288458",
   "metadata": {},
   "source": [
    "## Exercise #4: Grab rows that mention a 'cat'"
   ]
  },
  {
   "cell_type": "code",
   "execution_count": 106,
   "id": "08f78d70",
   "metadata": {},
   "outputs": [],
   "source": [
    "df = pd.read_csv('./data/cats.csv')"
   ]
  },
  {
   "cell_type": "code",
   "execution_count": 107,
   "id": "c7912445",
   "metadata": {},
   "outputs": [
    {
     "data": {
      "text/html": [
       "<div>\n",
       "<style scoped>\n",
       "    .dataframe tbody tr th:only-of-type {\n",
       "        vertical-align: middle;\n",
       "    }\n",
       "\n",
       "    .dataframe tbody tr th {\n",
       "        vertical-align: top;\n",
       "    }\n",
       "\n",
       "    .dataframe thead th {\n",
       "        text-align: right;\n",
       "    }\n",
       "</style>\n",
       "<table border=\"1\" class=\"dataframe\">\n",
       "  <thead>\n",
       "    <tr style=\"text-align: right;\">\n",
       "      <th></th>\n",
       "      <th>text</th>\n",
       "    </tr>\n",
       "  </thead>\n",
       "  <tbody>\n",
       "    <tr>\n",
       "      <th>0</th>\n",
       "      <td>I like cats and dogs</td>\n",
       "    </tr>\n",
       "    <tr>\n",
       "      <th>1</th>\n",
       "      <td>The baseball player made a nice catch</td>\n",
       "    </tr>\n",
       "    <tr>\n",
       "      <th>2</th>\n",
       "      <td>My cat is named Whiskers</td>\n",
       "    </tr>\n",
       "    <tr>\n",
       "      <th>3</th>\n",
       "      <td>I caught a cold last week</td>\n",
       "    </tr>\n",
       "    <tr>\n",
       "      <th>4</th>\n",
       "      <td>The cat in the hat came back</td>\n",
       "    </tr>\n",
       "  </tbody>\n",
       "</table>\n",
       "</div>"
      ],
      "text/plain": [
       "                                    text\n",
       "0                   I like cats and dogs\n",
       "1  The baseball player made a nice catch\n",
       "2               My cat is named Whiskers\n",
       "3              I caught a cold last week\n",
       "4           The cat in the hat came back"
      ]
     },
     "execution_count": 107,
     "metadata": {},
     "output_type": "execute_result"
    }
   ],
   "source": [
    "df.head()"
   ]
  },
  {
   "cell_type": "code",
   "execution_count": 108,
   "id": "a7287c45",
   "metadata": {},
   "outputs": [
    {
     "data": {
      "text/html": [
       "<div>\n",
       "<style scoped>\n",
       "    .dataframe tbody tr th:only-of-type {\n",
       "        vertical-align: middle;\n",
       "    }\n",
       "\n",
       "    .dataframe tbody tr th {\n",
       "        vertical-align: top;\n",
       "    }\n",
       "\n",
       "    .dataframe thead th {\n",
       "        text-align: right;\n",
       "    }\n",
       "</style>\n",
       "<table border=\"1\" class=\"dataframe\">\n",
       "  <thead>\n",
       "    <tr style=\"text-align: right;\">\n",
       "      <th></th>\n",
       "      <th>text</th>\n",
       "    </tr>\n",
       "  </thead>\n",
       "  <tbody>\n",
       "    <tr>\n",
       "      <th>0</th>\n",
       "      <td>I like cats and dogs</td>\n",
       "    </tr>\n",
       "    <tr>\n",
       "      <th>1</th>\n",
       "      <td>The baseball player made a nice catch</td>\n",
       "    </tr>\n",
       "    <tr>\n",
       "      <th>2</th>\n",
       "      <td>My cat is named Whiskers</td>\n",
       "    </tr>\n",
       "    <tr>\n",
       "      <th>4</th>\n",
       "      <td>The cat in the hat came back</td>\n",
       "    </tr>\n",
       "    <tr>\n",
       "      <th>6</th>\n",
       "      <td>The caterpillar turned into a butterfly</td>\n",
       "    </tr>\n",
       "    <tr>\n",
       "      <th>7</th>\n",
       "      <td>I have a lot of cats at my house</td>\n",
       "    </tr>\n",
       "    <tr>\n",
       "      <th>10</th>\n",
       "      <td>The leaves were scattered all over the yard</td>\n",
       "    </tr>\n",
       "  </tbody>\n",
       "</table>\n",
       "</div>"
      ],
      "text/plain": [
       "                                           text\n",
       "0                          I like cats and dogs\n",
       "1         The baseball player made a nice catch\n",
       "2                      My cat is named Whiskers\n",
       "4                  The cat in the hat came back\n",
       "6       The caterpillar turned into a butterfly\n",
       "7              I have a lot of cats at my house\n",
       "10  The leaves were scattered all over the yard"
      ]
     },
     "execution_count": 108,
     "metadata": {},
     "output_type": "execute_result"
    }
   ],
   "source": [
    "df[df['text'].str.contains('cat')]"
   ]
  },
  {
   "cell_type": "code",
   "execution_count": 110,
   "id": "48f7ab4f",
   "metadata": {
    "scrolled": true
   },
   "outputs": [
    {
     "data": {
      "text/html": [
       "<div>\n",
       "<style scoped>\n",
       "    .dataframe tbody tr th:only-of-type {\n",
       "        vertical-align: middle;\n",
       "    }\n",
       "\n",
       "    .dataframe tbody tr th {\n",
       "        vertical-align: top;\n",
       "    }\n",
       "\n",
       "    .dataframe thead th {\n",
       "        text-align: right;\n",
       "    }\n",
       "</style>\n",
       "<table border=\"1\" class=\"dataframe\">\n",
       "  <thead>\n",
       "    <tr style=\"text-align: right;\">\n",
       "      <th></th>\n",
       "      <th>text</th>\n",
       "    </tr>\n",
       "  </thead>\n",
       "  <tbody>\n",
       "    <tr>\n",
       "      <th>0</th>\n",
       "      <td>I like cats and dogs</td>\n",
       "    </tr>\n",
       "    <tr>\n",
       "      <th>2</th>\n",
       "      <td>My cat is named Whiskers</td>\n",
       "    </tr>\n",
       "    <tr>\n",
       "      <th>4</th>\n",
       "      <td>The cat in the hat came back</td>\n",
       "    </tr>\n",
       "    <tr>\n",
       "      <th>7</th>\n",
       "      <td>I have a lot of cats at my house</td>\n",
       "    </tr>\n",
       "    <tr>\n",
       "      <th>9</th>\n",
       "      <td>The Cat slept on the windowsill</td>\n",
       "    </tr>\n",
       "  </tbody>\n",
       "</table>\n",
       "</div>"
      ],
      "text/plain": [
       "                               text\n",
       "0              I like cats and dogs\n",
       "2          My cat is named Whiskers\n",
       "4      The cat in the hat came back\n",
       "7  I have a lot of cats at my house\n",
       "9   The Cat slept on the windowsill"
      ]
     },
     "execution_count": 110,
     "metadata": {},
     "output_type": "execute_result"
    }
   ],
   "source": [
    "df[df['text'].str.contains(r'\\bcats*\\b',regex=True,case=False)]"
   ]
  },
  {
   "cell_type": "markdown",
   "id": "ebc0b1e6",
   "metadata": {},
   "source": [
    "## Exercise #5: Grab rows that contain an email"
   ]
  },
  {
   "cell_type": "code",
   "execution_count": 111,
   "id": "c1747948",
   "metadata": {},
   "outputs": [],
   "source": [
    "pd.options.display.max_colwidth = 300"
   ]
  },
  {
   "cell_type": "code",
   "execution_count": 103,
   "id": "0acadec3",
   "metadata": {},
   "outputs": [],
   "source": [
    "df = pd.read_csv('./data/emails.csv')"
   ]
  },
  {
   "cell_type": "code",
   "execution_count": 104,
   "id": "646609bf",
   "metadata": {},
   "outputs": [
    {
     "data": {
      "text/html": [
       "<div>\n",
       "<style scoped>\n",
       "    .dataframe tbody tr th:only-of-type {\n",
       "        vertical-align: middle;\n",
       "    }\n",
       "\n",
       "    .dataframe tbody tr th {\n",
       "        vertical-align: top;\n",
       "    }\n",
       "\n",
       "    .dataframe thead th {\n",
       "        text-align: right;\n",
       "    }\n",
       "</style>\n",
       "<table border=\"1\" class=\"dataframe\">\n",
       "  <thead>\n",
       "    <tr style=\"text-align: right;\">\n",
       "      <th></th>\n",
       "      <th>text</th>\n",
       "    </tr>\n",
       "  </thead>\n",
       "  <tbody>\n",
       "    <tr>\n",
       "      <th>0</th>\n",
       "      <td>The quick brown fox jumped over the lazy dog</td>\n",
       "    </tr>\n",
       "    <tr>\n",
       "      <th>1</th>\n",
       "      <td>This is a random sentence with no email address</td>\n",
       "    </tr>\n",
       "    <tr>\n",
       "      <th>2</th>\n",
       "      <td>Another random sentence with no email address</td>\n",
       "    </tr>\n",
       "    <tr>\n",
       "      <th>3</th>\n",
       "      <td>john@example.com is an email address</td>\n",
       "    </tr>\n",
       "    <tr>\n",
       "      <th>4</th>\n",
       "      <td>jane@example.com is also an email address</td>\n",
       "    </tr>\n",
       "  </tbody>\n",
       "</table>\n",
       "</div>"
      ],
      "text/plain": [
       "                                              text\n",
       "0     The quick brown fox jumped over the lazy dog\n",
       "1  This is a random sentence with no email address\n",
       "2    Another random sentence with no email address\n",
       "3             john@example.com is an email address\n",
       "4        jane@example.com is also an email address"
      ]
     },
     "execution_count": 104,
     "metadata": {},
     "output_type": "execute_result"
    }
   ],
   "source": [
    "df.head()"
   ]
  },
  {
   "cell_type": "code",
   "execution_count": 105,
   "id": "d5a37b56",
   "metadata": {},
   "outputs": [
    {
     "name": "stderr",
     "output_type": "stream",
     "text": [
      "/tmp/ipykernel_511/1763553668.py:1: UserWarning: This pattern is interpreted as a regular expression, and has match groups. To actually get the groups, use str.extract.\n",
      "  df[df['text'].str.contains('[A-Za-z]+@[A-Za-z]+.(com|edu)',regex=True)]\n"
     ]
    },
    {
     "data": {
      "text/html": [
       "<div>\n",
       "<style scoped>\n",
       "    .dataframe tbody tr th:only-of-type {\n",
       "        vertical-align: middle;\n",
       "    }\n",
       "\n",
       "    .dataframe tbody tr th {\n",
       "        vertical-align: top;\n",
       "    }\n",
       "\n",
       "    .dataframe thead th {\n",
       "        text-align: right;\n",
       "    }\n",
       "</style>\n",
       "<table border=\"1\" class=\"dataframe\">\n",
       "  <thead>\n",
       "    <tr style=\"text-align: right;\">\n",
       "      <th></th>\n",
       "      <th>text</th>\n",
       "    </tr>\n",
       "  </thead>\n",
       "  <tbody>\n",
       "    <tr>\n",
       "      <th>3</th>\n",
       "      <td>john@example.com is an email address</td>\n",
       "    </tr>\n",
       "    <tr>\n",
       "      <th>4</th>\n",
       "      <td>jane@example.com is also an email address</td>\n",
       "    </tr>\n",
       "    <tr>\n",
       "      <th>6</th>\n",
       "      <td>Contact me at jim@example.com for more information</td>\n",
       "    </tr>\n",
       "    <tr>\n",
       "      <th>8</th>\n",
       "      <td>If you have any questions, you can email me at sarah@sample.edu</td>\n",
       "    </tr>\n",
       "    <tr>\n",
       "      <th>11</th>\n",
       "      <td>You can also reach me at jake@sample.edu if you have any questions</td>\n",
       "    </tr>\n",
       "  </tbody>\n",
       "</table>\n",
       "</div>"
      ],
      "text/plain": [
       "                                                                  text\n",
       "3                                 john@example.com is an email address\n",
       "4                            jane@example.com is also an email address\n",
       "6                   Contact me at jim@example.com for more information\n",
       "8      If you have any questions, you can email me at sarah@sample.edu\n",
       "11  You can also reach me at jake@sample.edu if you have any questions"
      ]
     },
     "execution_count": 105,
     "metadata": {},
     "output_type": "execute_result"
    }
   ],
   "source": [
    "df[df['text'].str.contains('[A-Za-z]+@[A-Za-z]+.(com|edu)',regex=True)]"
   ]
  },
  {
   "cell_type": "code",
   "execution_count": 88,
   "id": "24572449",
   "metadata": {
    "scrolled": true
   },
   "outputs": [
    {
     "data": {
      "text/html": [
       "<div>\n",
       "<style scoped>\n",
       "    .dataframe tbody tr th:only-of-type {\n",
       "        vertical-align: middle;\n",
       "    }\n",
       "\n",
       "    .dataframe tbody tr th {\n",
       "        vertical-align: top;\n",
       "    }\n",
       "\n",
       "    .dataframe thead th {\n",
       "        text-align: right;\n",
       "    }\n",
       "</style>\n",
       "<table border=\"1\" class=\"dataframe\">\n",
       "  <thead>\n",
       "    <tr style=\"text-align: right;\">\n",
       "      <th></th>\n",
       "      <th>text</th>\n",
       "    </tr>\n",
       "  </thead>\n",
       "  <tbody>\n",
       "    <tr>\n",
       "      <th>12</th>\n",
       "      <td>This sentence contains no email address</td>\n",
       "    </tr>\n",
       "    <tr>\n",
       "      <th>13</th>\n",
       "      <td>Another sentence with no email address</td>\n",
       "    </tr>\n",
       "    <tr>\n",
       "      <th>14</th>\n",
       "      <td>Yet another sentence with no email address</td>\n",
       "    </tr>\n",
       "    <tr>\n",
       "      <th>15</th>\n",
       "      <td>And so on, until the table is full of random t...</td>\n",
       "    </tr>\n",
       "    <tr>\n",
       "      <th>16</th>\n",
       "      <td>random symbols @!#$%&amp;</td>\n",
       "    </tr>\n",
       "  </tbody>\n",
       "</table>\n",
       "</div>"
      ],
      "text/plain": [
       "                                                 text\n",
       "12            This sentence contains no email address\n",
       "13             Another sentence with no email address\n",
       "14         Yet another sentence with no email address\n",
       "15  And so on, until the table is full of random t...\n",
       "16                              random symbols @!#$%&"
      ]
     },
     "execution_count": 88,
     "metadata": {},
     "output_type": "execute_result"
    }
   ],
   "source": [
    "df.tail()"
   ]
  },
  {
   "cell_type": "markdown",
   "id": "e40eb814",
   "metadata": {},
   "source": [
    "## Exercise #6: Grab rows that contain phone number"
   ]
  },
  {
   "cell_type": "code",
   "execution_count": 112,
   "id": "cbbbc59d",
   "metadata": {},
   "outputs": [],
   "source": [
    "df = pd.read_csv('./data/phone-numbers.csv')"
   ]
  },
  {
   "cell_type": "code",
   "execution_count": 113,
   "id": "64f5d0b8",
   "metadata": {},
   "outputs": [
    {
     "data": {
      "text/html": [
       "<div>\n",
       "<style scoped>\n",
       "    .dataframe tbody tr th:only-of-type {\n",
       "        vertical-align: middle;\n",
       "    }\n",
       "\n",
       "    .dataframe tbody tr th {\n",
       "        vertical-align: top;\n",
       "    }\n",
       "\n",
       "    .dataframe thead th {\n",
       "        text-align: right;\n",
       "    }\n",
       "</style>\n",
       "<table border=\"1\" class=\"dataframe\">\n",
       "  <thead>\n",
       "    <tr style=\"text-align: right;\">\n",
       "      <th></th>\n",
       "      <th>text</th>\n",
       "    </tr>\n",
       "  </thead>\n",
       "  <tbody>\n",
       "    <tr>\n",
       "      <th>0</th>\n",
       "      <td>The quick brown fox jumped over the lazy dog</td>\n",
       "    </tr>\n",
       "    <tr>\n",
       "      <th>1</th>\n",
       "      <td>hit me up at 123-345-7727</td>\n",
       "    </tr>\n",
       "    <tr>\n",
       "      <th>2</th>\n",
       "      <td>This is a random sentence with no email address</td>\n",
       "    </tr>\n",
       "    <tr>\n",
       "      <th>3</th>\n",
       "      <td>Another random sentence with no email address</td>\n",
       "    </tr>\n",
       "    <tr>\n",
       "      <th>4</th>\n",
       "      <td>john@example.com is an email address</td>\n",
       "    </tr>\n",
       "  </tbody>\n",
       "</table>\n",
       "</div>"
      ],
      "text/plain": [
       "                                              text\n",
       "0     The quick brown fox jumped over the lazy dog\n",
       "1                        hit me up at 123-345-7727\n",
       "2  This is a random sentence with no email address\n",
       "3    Another random sentence with no email address\n",
       "4             john@example.com is an email address"
      ]
     },
     "execution_count": 113,
     "metadata": {},
     "output_type": "execute_result"
    }
   ],
   "source": [
    "df.head()"
   ]
  },
  {
   "cell_type": "code",
   "execution_count": 118,
   "id": "af3b669b",
   "metadata": {},
   "outputs": [
    {
     "data": {
      "text/html": [
       "<div>\n",
       "<style scoped>\n",
       "    .dataframe tbody tr th:only-of-type {\n",
       "        vertical-align: middle;\n",
       "    }\n",
       "\n",
       "    .dataframe tbody tr th {\n",
       "        vertical-align: top;\n",
       "    }\n",
       "\n",
       "    .dataframe thead th {\n",
       "        text-align: right;\n",
       "    }\n",
       "</style>\n",
       "<table border=\"1\" class=\"dataframe\">\n",
       "  <thead>\n",
       "    <tr style=\"text-align: right;\">\n",
       "      <th></th>\n",
       "      <th>text</th>\n",
       "    </tr>\n",
       "  </thead>\n",
       "  <tbody>\n",
       "    <tr>\n",
       "      <th>1</th>\n",
       "      <td>hit me up at 123-345-7727</td>\n",
       "    </tr>\n",
       "    <tr>\n",
       "      <th>8</th>\n",
       "      <td>You can also reach me at 555-555-1212 if you have any questions</td>\n",
       "    </tr>\n",
       "    <tr>\n",
       "      <th>16</th>\n",
       "      <td>My number is (555)-555-5555</td>\n",
       "    </tr>\n",
       "  </tbody>\n",
       "</table>\n",
       "</div>"
      ],
      "text/plain": [
       "                                                               text\n",
       "1                                         hit me up at 123-345-7727\n",
       "8   You can also reach me at 555-555-1212 if you have any questions\n",
       "16                                      My number is (555)-555-5555"
      ]
     },
     "execution_count": 118,
     "metadata": {},
     "output_type": "execute_result"
    }
   ],
   "source": [
    "df = df[df['text'].str.contains(r'\\(*\\d{3}\\)*-\\d{3}-\\d{4}',regex=True)]"
   ]
  },
  {
   "cell_type": "code",
   "execution_count": 120,
   "id": "68e1b847",
   "metadata": {},
   "outputs": [
    {
     "data": {
      "text/html": [
       "<div>\n",
       "<style scoped>\n",
       "    .dataframe tbody tr th:only-of-type {\n",
       "        vertical-align: middle;\n",
       "    }\n",
       "\n",
       "    .dataframe tbody tr th {\n",
       "        vertical-align: top;\n",
       "    }\n",
       "\n",
       "    .dataframe thead th {\n",
       "        text-align: right;\n",
       "    }\n",
       "</style>\n",
       "<table border=\"1\" class=\"dataframe\">\n",
       "  <thead>\n",
       "    <tr style=\"text-align: right;\">\n",
       "      <th></th>\n",
       "      <th>text</th>\n",
       "    </tr>\n",
       "  </thead>\n",
       "  <tbody>\n",
       "    <tr>\n",
       "      <th>0</th>\n",
       "      <td>The quick brown fox jumped over the lazy dog</td>\n",
       "    </tr>\n",
       "    <tr>\n",
       "      <th>1</th>\n",
       "      <td>hit me up at 123-345-7727</td>\n",
       "    </tr>\n",
       "    <tr>\n",
       "      <th>2</th>\n",
       "      <td>This is a random sentence with no email address</td>\n",
       "    </tr>\n",
       "    <tr>\n",
       "      <th>3</th>\n",
       "      <td>Another random sentence with no email address</td>\n",
       "    </tr>\n",
       "    <tr>\n",
       "      <th>4</th>\n",
       "      <td>john@example.com is an email address</td>\n",
       "    </tr>\n",
       "  </tbody>\n",
       "</table>\n",
       "</div>"
      ],
      "text/plain": [
       "                                              text\n",
       "0     The quick brown fox jumped over the lazy dog\n",
       "1                        hit me up at 123-345-7727\n",
       "2  This is a random sentence with no email address\n",
       "3    Another random sentence with no email address\n",
       "4             john@example.com is an email address"
      ]
     },
     "execution_count": 120,
     "metadata": {},
     "output_type": "execute_result"
    }
   ],
   "source": [
    "df.head()"
   ]
  },
  {
   "cell_type": "markdown",
   "id": "f436522a",
   "metadata": {},
   "source": [
    "# Text Cleaning"
   ]
  },
  {
   "cell_type": "code",
   "execution_count": 5,
   "id": "47f2ff87",
   "metadata": {},
   "outputs": [],
   "source": [
    "with open('./data/story-time.txt') as f:\n",
    "    text = f.read()"
   ]
  },
  {
   "cell_type": "code",
   "execution_count": 6,
   "id": "45673c66",
   "metadata": {},
   "outputs": [
    {
     "name": "stdout",
     "output_type": "stream",
     "text": [
      "Once upon a time, in a land far, far away, there lived a beautiful unicorn named Luna. Luna lived in a magical forest filled with all kinds of enchanted creatures, but she was the only unicorn in the land.\n",
      "\n",
      "One day, Luna decided that she wanted to learn about the world beyond the forest. She wanted to understand how the world worked and how she could use her magic to help others. So, she set out on a journey to learn about data analytics.\n",
      "\n",
      "As she wandered through the forest, Luna came across a wise old owl who was known for his knowledge of the world beyond the trees. The owl agreed to teach Luna about data analytics, and so they spent many hours together, learning about algorithms, data mining, and other important concepts.\n",
      "\n",
      "Luna quickly proved to be a natural at data analytics. She was able to understand complex concepts with ease and was able to apply her knowledge to help others in the forest. She used her magic to create intricate models that helped the other creatures understand the world around them and make better decisions.\n",
      "\n",
      "Over time, Luna's knowledge of data analytics grew, and she became known throughout the forest as the most skilled unicorn in all the land. She used her knowledge to help others, and she became a beloved figure in the forest.\n",
      "\n",
      "And so, Luna the unicorn lived happily ever after, using her knowledge of data analytics to help others and make the world a better place.\n"
     ]
    }
   ],
   "source": [
    "print(text)"
   ]
  },
  {
   "cell_type": "markdown",
   "id": "341352bf",
   "metadata": {},
   "source": [
    "## Exercise 7: Remove punctuation from text"
   ]
  },
  {
   "cell_type": "code",
   "execution_count": 21,
   "id": "d874d545",
   "metadata": {},
   "outputs": [],
   "source": [
    "import string\n",
    "\n",
    "new_text = text.translate(str.maketrans('','', string.punctuation))"
   ]
  },
  {
   "cell_type": "code",
   "execution_count": 26,
   "id": "f391239e",
   "metadata": {},
   "outputs": [
    {
     "name": "stdout",
     "output_type": "stream",
     "text": [
      "Once upon a time in a land far far away there lived a beautiful unicorn named Luna Luna lived in a magical forest filled with all kinds of enchanted creatures but she was the only unicorn in the land\n",
      "\n",
      "One day Luna decided that she wanted to learn about the world beyond the forest She wanted to understand how the world worked and how she could use her magic to help others So she set out on a journey to learn about data analytics\n",
      "\n",
      "As she wandered through the forest Luna came across a wise old owl who was known for his knowledge of the world beyond the trees The owl agreed to teach Luna about data analytics and so they spent many hours together learning about algorithms data mining and other important concepts\n",
      "\n",
      "Luna quickly proved to be a natural at data analytics She was able to understand complex concepts with ease and was able to apply her knowledge to help others in the forest She used her magic to create intricate models that helped the other creatures understand the world around them and make better decisions\n",
      "\n",
      "Over time Lunas knowledge of data analytics grew and she became known throughout the forest as the most skilled unicorn in all the land She used her knowledge to help others and she became a beloved figure in the forest\n",
      "\n",
      "And so Luna the unicorn lived happily ever after using her knowledge of data analytics to help others and make the world a better place\n"
     ]
    }
   ],
   "source": [
    "print(new_text)"
   ]
  },
  {
   "cell_type": "markdown",
   "id": "63e426ef",
   "metadata": {},
   "source": [
    "## Exercise 8: Remove stopwords from text"
   ]
  },
  {
   "cell_type": "code",
   "execution_count": 28,
   "id": "86597d50",
   "metadata": {},
   "outputs": [
    {
     "name": "stdout",
     "output_type": "stream",
     "text": [
      "['i', 'me', 'my', 'myself', 'we', 'our', 'ours', 'ourselves', 'you', \"you're\", \"you've\", \"you'll\", \"you'd\", 'your', 'yours', 'yourself', 'yourselves', 'he', 'him', 'his', 'himself', 'she', \"she's\", 'her', 'hers', 'herself', 'it', \"it's\", 'its', 'itself', 'they', 'them', 'their', 'theirs', 'themselves', 'what', 'which', 'who', 'whom', 'this', 'that', \"that'll\", 'these', 'those', 'am', 'is', 'are', 'was', 'were', 'be', 'been', 'being', 'have', 'has', 'had', 'having', 'do', 'does', 'did', 'doing', 'a', 'an', 'the', 'and', 'but', 'if', 'or', 'because', 'as', 'until', 'while', 'of', 'at', 'by', 'for', 'with', 'about', 'against', 'between', 'into', 'through', 'during', 'before', 'after', 'above', 'below', 'to', 'from', 'up', 'down', 'in', 'out', 'on', 'off', 'over', 'under', 'again', 'further', 'then', 'once', 'here', 'there', 'when', 'where', 'why', 'how', 'all', 'any', 'both', 'each', 'few', 'more', 'most', 'other', 'some', 'such', 'no', 'nor', 'not', 'only', 'own', 'same', 'so', 'than', 'too', 'very', 's', 't', 'can', 'will', 'just', 'don', \"don't\", 'should', \"should've\", 'now', 'd', 'll', 'm', 'o', 're', 've', 'y', 'ain', 'aren', \"aren't\", 'couldn', \"couldn't\", 'didn', \"didn't\", 'doesn', \"doesn't\", 'hadn', \"hadn't\", 'hasn', \"hasn't\", 'haven', \"haven't\", 'isn', \"isn't\", 'ma', 'mightn', \"mightn't\", 'mustn', \"mustn't\", 'needn', \"needn't\", 'shan', \"shan't\", 'shouldn', \"shouldn't\", 'wasn', \"wasn't\", 'weren', \"weren't\", 'won', \"won't\", 'wouldn', \"wouldn't\"]\n"
     ]
    }
   ],
   "source": [
    "import nltk\n",
    "from nltk.corpus import stopwords\n",
    "from nltk.tokenize import word_tokenize\n",
    "\n",
    "print(stopwords.words('english'))"
   ]
  },
  {
   "cell_type": "code",
   "execution_count": 30,
   "id": "db12857f",
   "metadata": {},
   "outputs": [],
   "source": [
    "stop_words = set(stopwords.words('english'))\n",
    "\n",
    "word_tokens = word_tokenize(new_text)\n",
    "\n",
    "filtered = [w for w in word_tokens if not w.lower() in stop_words]"
   ]
  },
  {
   "cell_type": "code",
   "execution_count": 31,
   "id": "b8c75d26",
   "metadata": {},
   "outputs": [
    {
     "data": {
      "text/plain": [
       "['upon',\n",
       " 'time',\n",
       " 'land',\n",
       " 'far',\n",
       " 'far',\n",
       " 'away',\n",
       " 'lived',\n",
       " 'beautiful',\n",
       " 'unicorn',\n",
       " 'named',\n",
       " 'Luna',\n",
       " 'Luna',\n",
       " 'lived',\n",
       " 'magical',\n",
       " 'forest',\n",
       " 'filled',\n",
       " 'kinds',\n",
       " 'enchanted',\n",
       " 'creatures',\n",
       " 'unicorn',\n",
       " 'land',\n",
       " 'One',\n",
       " 'day',\n",
       " 'Luna',\n",
       " 'decided',\n",
       " 'wanted',\n",
       " 'learn',\n",
       " 'world',\n",
       " 'beyond',\n",
       " 'forest',\n",
       " 'wanted',\n",
       " 'understand',\n",
       " 'world',\n",
       " 'worked',\n",
       " 'could',\n",
       " 'use',\n",
       " 'magic',\n",
       " 'help',\n",
       " 'others',\n",
       " 'set',\n",
       " 'journey',\n",
       " 'learn',\n",
       " 'data',\n",
       " 'analytics',\n",
       " 'wandered',\n",
       " 'forest',\n",
       " 'Luna',\n",
       " 'came',\n",
       " 'across',\n",
       " 'wise',\n",
       " 'old',\n",
       " 'owl',\n",
       " 'known',\n",
       " 'knowledge',\n",
       " 'world',\n",
       " 'beyond',\n",
       " 'trees',\n",
       " 'owl',\n",
       " 'agreed',\n",
       " 'teach',\n",
       " 'Luna',\n",
       " 'data',\n",
       " 'analytics',\n",
       " 'spent',\n",
       " 'many',\n",
       " 'hours',\n",
       " 'together',\n",
       " 'learning',\n",
       " 'algorithms',\n",
       " 'data',\n",
       " 'mining',\n",
       " 'important',\n",
       " 'concepts',\n",
       " 'Luna',\n",
       " 'quickly',\n",
       " 'proved',\n",
       " 'natural',\n",
       " 'data',\n",
       " 'analytics',\n",
       " 'able',\n",
       " 'understand',\n",
       " 'complex',\n",
       " 'concepts',\n",
       " 'ease',\n",
       " 'able',\n",
       " 'apply',\n",
       " 'knowledge',\n",
       " 'help',\n",
       " 'others',\n",
       " 'forest',\n",
       " 'used',\n",
       " 'magic',\n",
       " 'create',\n",
       " 'intricate',\n",
       " 'models',\n",
       " 'helped',\n",
       " 'creatures',\n",
       " 'understand',\n",
       " 'world',\n",
       " 'around',\n",
       " 'make',\n",
       " 'better',\n",
       " 'decisions',\n",
       " 'time',\n",
       " 'Lunas',\n",
       " 'knowledge',\n",
       " 'data',\n",
       " 'analytics',\n",
       " 'grew',\n",
       " 'became',\n",
       " 'known',\n",
       " 'throughout',\n",
       " 'forest',\n",
       " 'skilled',\n",
       " 'unicorn',\n",
       " 'land',\n",
       " 'used',\n",
       " 'knowledge',\n",
       " 'help',\n",
       " 'others',\n",
       " 'became',\n",
       " 'beloved',\n",
       " 'figure',\n",
       " 'forest',\n",
       " 'Luna',\n",
       " 'unicorn',\n",
       " 'lived',\n",
       " 'happily',\n",
       " 'ever',\n",
       " 'using',\n",
       " 'knowledge',\n",
       " 'data',\n",
       " 'analytics',\n",
       " 'help',\n",
       " 'others',\n",
       " 'make',\n",
       " 'world',\n",
       " 'better',\n",
       " 'place']"
      ]
     },
     "execution_count": 31,
     "metadata": {},
     "output_type": "execute_result"
    }
   ],
   "source": [
    "filtered"
   ]
  },
  {
   "cell_type": "code",
   "execution_count": null,
   "id": "05ea963b",
   "metadata": {},
   "outputs": [],
   "source": []
  }
 ],
 "metadata": {
  "kernelspec": {
   "display_name": "Python 3 (ipykernel)",
   "language": "python",
   "name": "python3"
  },
  "language_info": {
   "codemirror_mode": {
    "name": "ipython",
    "version": 3
   },
   "file_extension": ".py",
   "mimetype": "text/x-python",
   "name": "python",
   "nbconvert_exporter": "python",
   "pygments_lexer": "ipython3",
   "version": "3.8.10"
  }
 },
 "nbformat": 4,
 "nbformat_minor": 5
}
