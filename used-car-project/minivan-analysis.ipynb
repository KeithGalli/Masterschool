{
 "cells": [
  {
   "cell_type": "code",
   "execution_count": 1,
   "id": "3adda257",
   "metadata": {},
   "outputs": [],
   "source": [
    "import pandas as pd"
   ]
  },
  {
   "cell_type": "code",
   "execution_count": 2,
   "id": "89993d50",
   "metadata": {},
   "outputs": [],
   "source": [
    "df = pd.read_csv('./data/minivans.csv')"
   ]
  },
  {
   "cell_type": "code",
   "execution_count": 3,
   "id": "cfccebcd",
   "metadata": {},
   "outputs": [],
   "source": [
    "columns_to_keep = ['manufacturer','price','year','model','condition','paint_color',\n",
    "                   'odometer','title_status','state','lat','long']"
   ]
  },
  {
   "cell_type": "code",
   "execution_count": 6,
   "id": "b3ca16a3",
   "metadata": {},
   "outputs": [],
   "source": [
    "df = df[columns_to_keep]"
   ]
  },
  {
   "cell_type": "code",
   "execution_count": 4,
   "id": "01dc210d",
   "metadata": {},
   "outputs": [],
   "source": [
    "df['count'] = 1\n",
    "df['age'] = 2022-df['year']"
   ]
  },
  {
   "cell_type": "code",
   "execution_count": 5,
   "id": "c21ae7f7",
   "metadata": {},
   "outputs": [],
   "source": [
    "new = df.groupby(['manufacturer','age']).agg({'price':'mean','count':'sum','odometer':'mean'}).reset_index()"
   ]
  },
  {
   "cell_type": "code",
   "execution_count": 7,
   "id": "789b9a18",
   "metadata": {},
   "outputs": [
    {
     "data": {
      "application/vnd.plotly.v1+json": {
       "config": {
        "plotlyServerURL": "https://plot.ly"
       },
       "data": [
        {
         "hovertemplate": "manufacturer=acura<br>age=%{x}<br>price=%{y}<extra></extra>",
         "legendgroup": "acura",
         "marker": {
          "color": "#636efa",
          "symbol": "circle"
         },
         "mode": "markers",
         "name": "acura",
         "orientation": "v",
         "showlegend": true,
         "type": "scatter",
         "x": [
          17
         ],
         "xaxis": "x",
         "y": [
          3999
         ],
         "yaxis": "y"
        },
        {
         "hovertemplate": "manufacturer=buick<br>age=%{x}<br>price=%{y}<extra></extra>",
         "legendgroup": "buick",
         "marker": {
          "color": "#EF553B",
          "symbol": "circle"
         },
         "mode": "markers",
         "name": "buick",
         "orientation": "v",
         "showlegend": true,
         "type": "scatter",
         "x": [
          10,
          15,
          16,
          17
         ],
         "xaxis": "x",
         "y": [
          0,
          6436.25,
          5018.333333333333,
          4929.4
         ],
         "yaxis": "y"
        },
        {
         "hovertemplate": "manufacturer=chevrolet<br>age=%{x}<br>price=%{y}<extra></extra>",
         "legendgroup": "chevrolet",
         "marker": {
          "color": "#00cc96",
          "symbol": "circle"
         },
         "mode": "markers",
         "name": "chevrolet",
         "orientation": "v",
         "showlegend": true,
         "type": "scatter",
         "x": [
          5,
          6,
          7,
          8,
          9,
          10,
          11,
          12,
          13,
          14,
          15,
          16,
          17,
          18,
          19,
          20,
          21,
          22,
          23,
          25,
          28
         ],
         "xaxis": "x",
         "y": [
          25188.8,
          28495,
          16125.166666666666,
          10999,
          13995,
          13897.2,
          14630,
          3850,
          2800,
          4285.615384615385,
          4362.727272727273,
          4025.777777777778,
          3395,
          4471.25,
          3574.6666666666665,
          1687,
          3936.125,
          3208,
          4935,
          2650,
          2231.6666666666665
         ],
         "yaxis": "y"
        },
        {
         "hovertemplate": "manufacturer=chrysler<br>age=%{x}<br>price=%{y}<extra></extra>",
         "legendgroup": "chrysler",
         "marker": {
          "color": "#ab63fa",
          "symbol": "circle"
         },
         "mode": "markers",
         "name": "chrysler",
         "orientation": "v",
         "showlegend": true,
         "type": "scatter",
         "x": [
          1,
          2,
          3,
          4,
          5,
          6,
          7,
          8,
          9,
          10,
          11,
          12,
          13,
          14,
          15,
          16,
          17,
          18,
          19,
          20,
          21,
          22,
          23,
          24,
          26
         ],
         "xaxis": "x",
         "y": [
          0,
          38931.692307692305,
          22736.4,
          18455.777777777777,
          13561,
          11616.947368421053,
          10620.923076923076,
          8908.921052631578,
          8274.406779661016,
          8619.967741935483,
          8150.128205128205,
          6787.329411764706,
          5892.615384615385,
          5776.551282051282,
          4577.241379310345,
          6626.170212765957,
          3077,
          3448.3333333333335,
          3467.04,
          3566.0625,
          3506.5833333333335,
          3000,
          3000,
          7250,
          1000
         ],
         "yaxis": "y"
        },
        {
         "hovertemplate": "manufacturer=dodge<br>age=%{x}<br>price=%{y}<extra></extra>",
         "legendgroup": "dodge",
         "marker": {
          "color": "#FFA15A",
          "symbol": "circle"
         },
         "mode": "markers",
         "name": "dodge",
         "orientation": "v",
         "showlegend": true,
         "type": "scatter",
         "x": [
          1,
          2,
          3,
          4,
          5,
          6,
          7,
          8,
          9,
          10,
          11,
          12,
          13,
          14,
          15,
          16,
          17,
          18,
          19,
          20,
          21,
          22,
          23,
          24,
          25,
          26,
          28,
          35
         ],
         "xaxis": "x",
         "y": [
          35785,
          22035.875,
          21060.231884057972,
          16909.434782608696,
          13235.035714285714,
          11624.361111111111,
          7839.523076923077,
          9382.22480620155,
          7154.954545454545,
          8197.686274509804,
          5518.268292682927,
          6350.463768115942,
          4930.928571428572,
          4524.2467532467535,
          4766.228571428572,
          4148.911764705882,
          4131,
          2918.8,
          3904.8947368421054,
          4088.9375,
          5970,
          2524.25,
          3060,
          3487.5,
          2035,
          3250,
          950,
          0
         ],
         "yaxis": "y"
        },
        {
         "hovertemplate": "manufacturer=ford<br>age=%{x}<br>price=%{y}<extra></extra>",
         "legendgroup": "ford",
         "marker": {
          "color": "#19d3f3",
          "symbol": "circle"
         },
         "mode": "markers",
         "name": "ford",
         "orientation": "v",
         "showlegend": true,
         "type": "scatter",
         "x": [
          2,
          3,
          4,
          5,
          6,
          7,
          8,
          9,
          10,
          11,
          12,
          14,
          15,
          16,
          17,
          18,
          19,
          20,
          21,
          22,
          23,
          24,
          25,
          26,
          28,
          31,
          33,
          66
         ],
         "xaxis": "x",
         "y": [
          34325.25,
          20991.666666666668,
          22553.777777777777,
          21784.842105263157,
          18646.842105263157,
          15427,
          12936.833333333334,
          8869.954545454546,
          10879.4,
          6000,
          9247.333333333334,
          11995,
          3831.6666666666665,
          3034.25,
          3223.8333333333335,
          3087.230769230769,
          3828,
          1903.3333333333333,
          2148.75,
          3125.1666666666665,
          1000,
          5412.5,
          2775,
          4125,
          730,
          700,
          500,
          29000
         ],
         "yaxis": "y"
        },
        {
         "hovertemplate": "manufacturer=gmc<br>age=%{x}<br>price=%{y}<extra></extra>",
         "legendgroup": "gmc",
         "marker": {
          "color": "#FF6692",
          "symbol": "circle"
         },
         "mode": "markers",
         "name": "gmc",
         "orientation": "v",
         "showlegend": true,
         "type": "scatter",
         "x": [
          4,
          5,
          8,
          15,
          18,
          19,
          22,
          23,
          25
         ],
         "xaxis": "x",
         "y": [
          29500,
          17695,
          10995,
          15000,
          3900,
          6500,
          2050,
          5777.5,
          4993
         ],
         "yaxis": "y"
        },
        {
         "hovertemplate": "manufacturer=honda<br>age=%{x}<br>price=%{y}<extra></extra>",
         "legendgroup": "honda",
         "marker": {
          "color": "#B6E880",
          "symbol": "circle"
         },
         "mode": "markers",
         "name": "honda",
         "orientation": "v",
         "showlegend": true,
         "type": "scatter",
         "x": [
          2,
          3,
          4,
          5,
          6,
          7,
          8,
          9,
          10,
          11,
          12,
          13,
          14,
          15,
          16,
          17,
          18,
          19,
          20,
          21,
          22,
          23,
          25
         ],
         "xaxis": "x",
         "y": [
          34367.38461538462,
          21947.037037037036,
          24556.125,
          16550.85714285714,
          21358.380952380954,
          16634.208333333332,
          13313.777777777777,
          13838.298245614034,
          11472.715789473685,
          9330.115942028986,
          7337.487804878048,
          6466.7692307692305,
          5729.671232876713,
          5280.576388888889,
          4657.186274509804,
          4077.9444444444443,
          3474.2926829268295,
          2938.72,
          2553.4285714285716,
          2704.8125,
          2300,
          2287.25,
          1450
         ],
         "yaxis": "y"
        },
        {
         "hovertemplate": "manufacturer=hyundai<br>age=%{x}<br>price=%{y}<extra></extra>",
         "legendgroup": "hyundai",
         "marker": {
          "color": "#FF97FF",
          "symbol": "circle"
         },
         "mode": "markers",
         "name": "hyundai",
         "orientation": "v",
         "showlegend": true,
         "type": "scatter",
         "x": [
          12,
          13,
          14,
          15,
          16
         ],
         "xaxis": "x",
         "y": [
          5500,
          0,
          5784.75,
          4811.125,
          2800
         ],
         "yaxis": "y"
        },
        {
         "hovertemplate": "manufacturer=kia<br>age=%{x}<br>price=%{y}<extra></extra>",
         "legendgroup": "kia",
         "marker": {
          "color": "#FECB52",
          "symbol": "circle"
         },
         "mode": "markers",
         "name": "kia",
         "orientation": "v",
         "showlegend": true,
         "type": "scatter",
         "x": [
          4,
          5,
          6,
          7,
          8,
          10,
          11,
          12,
          13,
          14,
          15,
          16,
          17,
          18,
          19,
          20
         ],
         "xaxis": "x",
         "y": [
          26812.333333333332,
          13654,
          8223.5,
          10224.333333333334,
          8797,
          5405.583333333333,
          5915.555555555556,
          4168.2,
          4641.875,
          3416.75,
          4030,
          2170.909090909091,
          1739.9375,
          4147.5,
          4500,
          3477
         ],
         "yaxis": "y"
        },
        {
         "hovertemplate": "manufacturer=lexus<br>age=%{x}<br>price=%{y}<extra></extra>",
         "legendgroup": "lexus",
         "marker": {
          "color": "#636efa",
          "symbol": "circle"
         },
         "mode": "markers",
         "name": "lexus",
         "orientation": "v",
         "showlegend": true,
         "type": "scatter",
         "x": [
          15
         ],
         "xaxis": "x",
         "y": [
          6500
         ],
         "yaxis": "y"
        },
        {
         "hovertemplate": "manufacturer=mazda<br>age=%{x}<br>price=%{y}<extra></extra>",
         "legendgroup": "mazda",
         "marker": {
          "color": "#EF553B",
          "symbol": "circle"
         },
         "mode": "markers",
         "name": "mazda",
         "orientation": "v",
         "showlegend": true,
         "type": "scatter",
         "x": [
          7,
          8,
          9,
          10,
          11,
          12,
          13,
          14,
          15,
          16,
          17,
          18,
          19,
          20,
          21,
          22
         ],
         "xaxis": "x",
         "y": [
          9668.42857142857,
          8723.75,
          5447.777777777777,
          7148.8,
          4500,
          4980.909090909091,
          3231.5555555555557,
          5005.8,
          2966.6666666666665,
          3395,
          2716.3333333333335,
          2375,
          2442,
          1797.5,
          1625,
          2500
         ],
         "yaxis": "y"
        },
        {
         "hovertemplate": "manufacturer=mercedes-benz<br>age=%{x}<br>price=%{y}<extra></extra>",
         "legendgroup": "mercedes-benz",
         "marker": {
          "color": "#00cc96",
          "symbol": "circle"
         },
         "mode": "markers",
         "name": "mercedes-benz",
         "orientation": "v",
         "showlegend": true,
         "type": "scatter",
         "x": [
          3,
          4,
          6,
          10,
          14,
          15,
          16
         ],
         "xaxis": "x",
         "y": [
          0,
          19400,
          39450,
          16500,
          7000,
          6100,
          3250
         ],
         "yaxis": "y"
        },
        {
         "hovertemplate": "manufacturer=mercury<br>age=%{x}<br>price=%{y}<extra></extra>",
         "legendgroup": "mercury",
         "marker": {
          "color": "#ab63fa",
          "symbol": "circle"
         },
         "mode": "markers",
         "name": "mercury",
         "orientation": "v",
         "showlegend": true,
         "type": "scatter",
         "x": [
          16,
          18,
          19,
          20,
          21,
          22,
          24
         ],
         "xaxis": "x",
         "y": [
          3500,
          2533.3333333333335,
          2550,
          2649.5,
          3395,
          2700,
          6000
         ],
         "yaxis": "y"
        },
        {
         "hovertemplate": "manufacturer=mini<br>age=%{x}<br>price=%{y}<extra></extra>",
         "legendgroup": "mini",
         "marker": {
          "color": "#FFA15A",
          "symbol": "circle"
         },
         "mode": "markers",
         "name": "mini",
         "orientation": "v",
         "showlegend": true,
         "type": "scatter",
         "x": [
          5,
          7,
          10,
          11,
          12,
          13,
          16,
          17,
          22,
          26
         ],
         "xaxis": "x",
         "y": [
          16880,
          17366,
          7991,
          8750,
          6950,
          4500,
          5991,
          5400,
          1500,
          2900
         ],
         "yaxis": "y"
        },
        {
         "hovertemplate": "manufacturer=mitsubishi<br>age=%{x}<br>price=%{y}<extra></extra>",
         "legendgroup": "mitsubishi",
         "marker": {
          "color": "#19d3f3",
          "symbol": "circle"
         },
         "mode": "markers",
         "name": "mitsubishi",
         "orientation": "v",
         "showlegend": true,
         "type": "scatter",
         "x": [
          27,
          31
         ],
         "xaxis": "x",
         "y": [
          14500,
          10000
         ],
         "yaxis": "y"
        },
        {
         "hovertemplate": "manufacturer=nissan<br>age=%{x}<br>price=%{y}<extra></extra>",
         "legendgroup": "nissan",
         "marker": {
          "color": "#FF6692",
          "symbol": "circle"
         },
         "mode": "markers",
         "name": "nissan",
         "orientation": "v",
         "showlegend": true,
         "type": "scatter",
         "x": [
          2,
          3,
          4,
          5,
          6,
          7,
          8,
          9,
          10,
          11,
          12,
          13,
          14,
          15,
          16,
          17,
          18,
          20,
          22,
          23,
          24,
          27,
          29
         ],
         "xaxis": "x",
         "y": [
          23500,
          0,
          17072.75,
          12896.615384615385,
          7690.666666666667,
          13757.25,
          12931,
          9605.57142857143,
          8059.571428571428,
          9656,
          5500,
          4262.714285714285,
          5195.615384615385,
          4222.263157894737,
          3454.222222222222,
          3220.4285714285716,
          3233.3333333333335,
          4249.5,
          1600,
          3795,
          3895,
          7999,
          6830
         ],
         "yaxis": "y"
        },
        {
         "hovertemplate": "manufacturer=pontiac<br>age=%{x}<br>price=%{y}<extra></extra>",
         "legendgroup": "pontiac",
         "marker": {
          "color": "#B6E880",
          "symbol": "circle"
         },
         "mode": "markers",
         "name": "pontiac",
         "orientation": "v",
         "showlegend": true,
         "type": "scatter",
         "x": [
          14,
          16,
          17,
          18,
          19,
          20,
          21,
          22,
          23,
          27
         ],
         "xaxis": "x",
         "y": [
          2995,
          3369,
          2725,
          2287.5,
          3200,
          3198.3333333333335,
          0,
          4880,
          3700,
          2250
         ],
         "yaxis": "y"
        },
        {
         "hovertemplate": "manufacturer=ram<br>age=%{x}<br>price=%{y}<extra></extra>",
         "legendgroup": "ram",
         "marker": {
          "color": "#FF97FF",
          "symbol": "circle"
         },
         "mode": "markers",
         "name": "ram",
         "orientation": "v",
         "showlegend": true,
         "type": "scatter",
         "x": [
          2,
          3,
          4,
          5,
          6,
          7,
          8,
          9,
          10,
          21,
          39
         ],
         "xaxis": "x",
         "y": [
          29666.666666666668,
          16900,
          40000,
          17272.333333333332,
          16245,
          7990.285714285715,
          8858.4,
          2800,
          5599.5,
          2500,
          1250
         ],
         "yaxis": "y"
        },
        {
         "hovertemplate": "manufacturer=saturn<br>age=%{x}<br>price=%{y}<extra></extra>",
         "legendgroup": "saturn",
         "marker": {
          "color": "#FECB52",
          "symbol": "circle"
         },
         "mode": "markers",
         "name": "saturn",
         "orientation": "v",
         "showlegend": true,
         "type": "scatter",
         "x": [
          16,
          17
         ],
         "xaxis": "x",
         "y": [
          4749.5,
          3166
         ],
         "yaxis": "y"
        },
        {
         "hovertemplate": "manufacturer=subaru<br>age=%{x}<br>price=%{y}<extra></extra>",
         "legendgroup": "subaru",
         "marker": {
          "color": "#636efa",
          "symbol": "circle"
         },
         "mode": "markers",
         "name": "subaru",
         "orientation": "v",
         "showlegend": true,
         "type": "scatter",
         "x": [
          25
         ],
         "xaxis": "x",
         "y": [
          2500
         ],
         "yaxis": "y"
        },
        {
         "hovertemplate": "manufacturer=toyota<br>age=%{x}<br>price=%{y}<extra></extra>",
         "legendgroup": "toyota",
         "marker": {
          "color": "#EF553B",
          "symbol": "circle"
         },
         "mode": "markers",
         "name": "toyota",
         "orientation": "v",
         "showlegend": true,
         "type": "scatter",
         "x": [
          2,
          3,
          4,
          5,
          6,
          7,
          8,
          9,
          10,
          11,
          12,
          13,
          14,
          15,
          16,
          17,
          18,
          19,
          20,
          21,
          22,
          23,
          24,
          26,
          27,
          29,
          30,
          35
         ],
         "xaxis": "x",
         "y": [
          38981.18518518518,
          27602.071428571428,
          23693,
          22155.82051282051,
          22951,
          18490.72,
          15248.2,
          12683.822222222223,
          12757,
          11671.945945945947,
          8077.863636363636,
          8256.894736842105,
          6065.64705882353,
          5894.805555555556,
          4512.298701298701,
          5305.666666666667,
          5310.583333333333,
          3480.625,
          3215,
          3386.25,
          3499.153846153846,
          2061,
          2571.1111111111113,
          4000,
          1700,
          18000,
          19495,
          4187.5
         ],
         "yaxis": "y"
        },
        {
         "hovertemplate": "manufacturer=volkswagen<br>age=%{x}<br>price=%{y}<extra></extra>",
         "legendgroup": "volkswagen",
         "marker": {
          "color": "#00cc96",
          "symbol": "circle"
         },
         "mode": "markers",
         "name": "volkswagen",
         "orientation": "v",
         "showlegend": true,
         "type": "scatter",
         "x": [
          8,
          10,
          11,
          12,
          13,
          19,
          20,
          21,
          22,
          23,
          27,
          35,
          38,
          51
         ],
         "xaxis": "x",
         "y": [
          5799.666666666667,
          7363.333333333333,
          5824.75,
          6735.263157894737,
          5474.375,
          6800,
          23900,
          15995,
          8150,
          11497.5,
          26000,
          32500,
          5000,
          6500
         ],
         "yaxis": "y"
        }
       ],
       "layout": {
        "legend": {
         "title": {
          "text": "manufacturer"
         },
         "tracegroupgap": 0
        },
        "margin": {
         "t": 60
        },
        "template": {
         "data": {
          "bar": [
           {
            "error_x": {
             "color": "#2a3f5f"
            },
            "error_y": {
             "color": "#2a3f5f"
            },
            "marker": {
             "line": {
              "color": "#E5ECF6",
              "width": 0.5
             },
             "pattern": {
              "fillmode": "overlay",
              "size": 10,
              "solidity": 0.2
             }
            },
            "type": "bar"
           }
          ],
          "barpolar": [
           {
            "marker": {
             "line": {
              "color": "#E5ECF6",
              "width": 0.5
             },
             "pattern": {
              "fillmode": "overlay",
              "size": 10,
              "solidity": 0.2
             }
            },
            "type": "barpolar"
           }
          ],
          "carpet": [
           {
            "aaxis": {
             "endlinecolor": "#2a3f5f",
             "gridcolor": "white",
             "linecolor": "white",
             "minorgridcolor": "white",
             "startlinecolor": "#2a3f5f"
            },
            "baxis": {
             "endlinecolor": "#2a3f5f",
             "gridcolor": "white",
             "linecolor": "white",
             "minorgridcolor": "white",
             "startlinecolor": "#2a3f5f"
            },
            "type": "carpet"
           }
          ],
          "choropleth": [
           {
            "colorbar": {
             "outlinewidth": 0,
             "ticks": ""
            },
            "type": "choropleth"
           }
          ],
          "contour": [
           {
            "colorbar": {
             "outlinewidth": 0,
             "ticks": ""
            },
            "colorscale": [
             [
              0,
              "#0d0887"
             ],
             [
              0.1111111111111111,
              "#46039f"
             ],
             [
              0.2222222222222222,
              "#7201a8"
             ],
             [
              0.3333333333333333,
              "#9c179e"
             ],
             [
              0.4444444444444444,
              "#bd3786"
             ],
             [
              0.5555555555555556,
              "#d8576b"
             ],
             [
              0.6666666666666666,
              "#ed7953"
             ],
             [
              0.7777777777777778,
              "#fb9f3a"
             ],
             [
              0.8888888888888888,
              "#fdca26"
             ],
             [
              1,
              "#f0f921"
             ]
            ],
            "type": "contour"
           }
          ],
          "contourcarpet": [
           {
            "colorbar": {
             "outlinewidth": 0,
             "ticks": ""
            },
            "type": "contourcarpet"
           }
          ],
          "heatmap": [
           {
            "colorbar": {
             "outlinewidth": 0,
             "ticks": ""
            },
            "colorscale": [
             [
              0,
              "#0d0887"
             ],
             [
              0.1111111111111111,
              "#46039f"
             ],
             [
              0.2222222222222222,
              "#7201a8"
             ],
             [
              0.3333333333333333,
              "#9c179e"
             ],
             [
              0.4444444444444444,
              "#bd3786"
             ],
             [
              0.5555555555555556,
              "#d8576b"
             ],
             [
              0.6666666666666666,
              "#ed7953"
             ],
             [
              0.7777777777777778,
              "#fb9f3a"
             ],
             [
              0.8888888888888888,
              "#fdca26"
             ],
             [
              1,
              "#f0f921"
             ]
            ],
            "type": "heatmap"
           }
          ],
          "heatmapgl": [
           {
            "colorbar": {
             "outlinewidth": 0,
             "ticks": ""
            },
            "colorscale": [
             [
              0,
              "#0d0887"
             ],
             [
              0.1111111111111111,
              "#46039f"
             ],
             [
              0.2222222222222222,
              "#7201a8"
             ],
             [
              0.3333333333333333,
              "#9c179e"
             ],
             [
              0.4444444444444444,
              "#bd3786"
             ],
             [
              0.5555555555555556,
              "#d8576b"
             ],
             [
              0.6666666666666666,
              "#ed7953"
             ],
             [
              0.7777777777777778,
              "#fb9f3a"
             ],
             [
              0.8888888888888888,
              "#fdca26"
             ],
             [
              1,
              "#f0f921"
             ]
            ],
            "type": "heatmapgl"
           }
          ],
          "histogram": [
           {
            "marker": {
             "pattern": {
              "fillmode": "overlay",
              "size": 10,
              "solidity": 0.2
             }
            },
            "type": "histogram"
           }
          ],
          "histogram2d": [
           {
            "colorbar": {
             "outlinewidth": 0,
             "ticks": ""
            },
            "colorscale": [
             [
              0,
              "#0d0887"
             ],
             [
              0.1111111111111111,
              "#46039f"
             ],
             [
              0.2222222222222222,
              "#7201a8"
             ],
             [
              0.3333333333333333,
              "#9c179e"
             ],
             [
              0.4444444444444444,
              "#bd3786"
             ],
             [
              0.5555555555555556,
              "#d8576b"
             ],
             [
              0.6666666666666666,
              "#ed7953"
             ],
             [
              0.7777777777777778,
              "#fb9f3a"
             ],
             [
              0.8888888888888888,
              "#fdca26"
             ],
             [
              1,
              "#f0f921"
             ]
            ],
            "type": "histogram2d"
           }
          ],
          "histogram2dcontour": [
           {
            "colorbar": {
             "outlinewidth": 0,
             "ticks": ""
            },
            "colorscale": [
             [
              0,
              "#0d0887"
             ],
             [
              0.1111111111111111,
              "#46039f"
             ],
             [
              0.2222222222222222,
              "#7201a8"
             ],
             [
              0.3333333333333333,
              "#9c179e"
             ],
             [
              0.4444444444444444,
              "#bd3786"
             ],
             [
              0.5555555555555556,
              "#d8576b"
             ],
             [
              0.6666666666666666,
              "#ed7953"
             ],
             [
              0.7777777777777778,
              "#fb9f3a"
             ],
             [
              0.8888888888888888,
              "#fdca26"
             ],
             [
              1,
              "#f0f921"
             ]
            ],
            "type": "histogram2dcontour"
           }
          ],
          "mesh3d": [
           {
            "colorbar": {
             "outlinewidth": 0,
             "ticks": ""
            },
            "type": "mesh3d"
           }
          ],
          "parcoords": [
           {
            "line": {
             "colorbar": {
              "outlinewidth": 0,
              "ticks": ""
             }
            },
            "type": "parcoords"
           }
          ],
          "pie": [
           {
            "automargin": true,
            "type": "pie"
           }
          ],
          "scatter": [
           {
            "fillpattern": {
             "fillmode": "overlay",
             "size": 10,
             "solidity": 0.2
            },
            "type": "scatter"
           }
          ],
          "scatter3d": [
           {
            "line": {
             "colorbar": {
              "outlinewidth": 0,
              "ticks": ""
             }
            },
            "marker": {
             "colorbar": {
              "outlinewidth": 0,
              "ticks": ""
             }
            },
            "type": "scatter3d"
           }
          ],
          "scattercarpet": [
           {
            "marker": {
             "colorbar": {
              "outlinewidth": 0,
              "ticks": ""
             }
            },
            "type": "scattercarpet"
           }
          ],
          "scattergeo": [
           {
            "marker": {
             "colorbar": {
              "outlinewidth": 0,
              "ticks": ""
             }
            },
            "type": "scattergeo"
           }
          ],
          "scattergl": [
           {
            "marker": {
             "colorbar": {
              "outlinewidth": 0,
              "ticks": ""
             }
            },
            "type": "scattergl"
           }
          ],
          "scattermapbox": [
           {
            "marker": {
             "colorbar": {
              "outlinewidth": 0,
              "ticks": ""
             }
            },
            "type": "scattermapbox"
           }
          ],
          "scatterpolar": [
           {
            "marker": {
             "colorbar": {
              "outlinewidth": 0,
              "ticks": ""
             }
            },
            "type": "scatterpolar"
           }
          ],
          "scatterpolargl": [
           {
            "marker": {
             "colorbar": {
              "outlinewidth": 0,
              "ticks": ""
             }
            },
            "type": "scatterpolargl"
           }
          ],
          "scatterternary": [
           {
            "marker": {
             "colorbar": {
              "outlinewidth": 0,
              "ticks": ""
             }
            },
            "type": "scatterternary"
           }
          ],
          "surface": [
           {
            "colorbar": {
             "outlinewidth": 0,
             "ticks": ""
            },
            "colorscale": [
             [
              0,
              "#0d0887"
             ],
             [
              0.1111111111111111,
              "#46039f"
             ],
             [
              0.2222222222222222,
              "#7201a8"
             ],
             [
              0.3333333333333333,
              "#9c179e"
             ],
             [
              0.4444444444444444,
              "#bd3786"
             ],
             [
              0.5555555555555556,
              "#d8576b"
             ],
             [
              0.6666666666666666,
              "#ed7953"
             ],
             [
              0.7777777777777778,
              "#fb9f3a"
             ],
             [
              0.8888888888888888,
              "#fdca26"
             ],
             [
              1,
              "#f0f921"
             ]
            ],
            "type": "surface"
           }
          ],
          "table": [
           {
            "cells": {
             "fill": {
              "color": "#EBF0F8"
             },
             "line": {
              "color": "white"
             }
            },
            "header": {
             "fill": {
              "color": "#C8D4E3"
             },
             "line": {
              "color": "white"
             }
            },
            "type": "table"
           }
          ]
         },
         "layout": {
          "annotationdefaults": {
           "arrowcolor": "#2a3f5f",
           "arrowhead": 0,
           "arrowwidth": 1
          },
          "autotypenumbers": "strict",
          "coloraxis": {
           "colorbar": {
            "outlinewidth": 0,
            "ticks": ""
           }
          },
          "colorscale": {
           "diverging": [
            [
             0,
             "#8e0152"
            ],
            [
             0.1,
             "#c51b7d"
            ],
            [
             0.2,
             "#de77ae"
            ],
            [
             0.3,
             "#f1b6da"
            ],
            [
             0.4,
             "#fde0ef"
            ],
            [
             0.5,
             "#f7f7f7"
            ],
            [
             0.6,
             "#e6f5d0"
            ],
            [
             0.7,
             "#b8e186"
            ],
            [
             0.8,
             "#7fbc41"
            ],
            [
             0.9,
             "#4d9221"
            ],
            [
             1,
             "#276419"
            ]
           ],
           "sequential": [
            [
             0,
             "#0d0887"
            ],
            [
             0.1111111111111111,
             "#46039f"
            ],
            [
             0.2222222222222222,
             "#7201a8"
            ],
            [
             0.3333333333333333,
             "#9c179e"
            ],
            [
             0.4444444444444444,
             "#bd3786"
            ],
            [
             0.5555555555555556,
             "#d8576b"
            ],
            [
             0.6666666666666666,
             "#ed7953"
            ],
            [
             0.7777777777777778,
             "#fb9f3a"
            ],
            [
             0.8888888888888888,
             "#fdca26"
            ],
            [
             1,
             "#f0f921"
            ]
           ],
           "sequentialminus": [
            [
             0,
             "#0d0887"
            ],
            [
             0.1111111111111111,
             "#46039f"
            ],
            [
             0.2222222222222222,
             "#7201a8"
            ],
            [
             0.3333333333333333,
             "#9c179e"
            ],
            [
             0.4444444444444444,
             "#bd3786"
            ],
            [
             0.5555555555555556,
             "#d8576b"
            ],
            [
             0.6666666666666666,
             "#ed7953"
            ],
            [
             0.7777777777777778,
             "#fb9f3a"
            ],
            [
             0.8888888888888888,
             "#fdca26"
            ],
            [
             1,
             "#f0f921"
            ]
           ]
          },
          "colorway": [
           "#636efa",
           "#EF553B",
           "#00cc96",
           "#ab63fa",
           "#FFA15A",
           "#19d3f3",
           "#FF6692",
           "#B6E880",
           "#FF97FF",
           "#FECB52"
          ],
          "font": {
           "color": "#2a3f5f"
          },
          "geo": {
           "bgcolor": "white",
           "lakecolor": "white",
           "landcolor": "#E5ECF6",
           "showlakes": true,
           "showland": true,
           "subunitcolor": "white"
          },
          "hoverlabel": {
           "align": "left"
          },
          "hovermode": "closest",
          "mapbox": {
           "style": "light"
          },
          "paper_bgcolor": "white",
          "plot_bgcolor": "#E5ECF6",
          "polar": {
           "angularaxis": {
            "gridcolor": "white",
            "linecolor": "white",
            "ticks": ""
           },
           "bgcolor": "#E5ECF6",
           "radialaxis": {
            "gridcolor": "white",
            "linecolor": "white",
            "ticks": ""
           }
          },
          "scene": {
           "xaxis": {
            "backgroundcolor": "#E5ECF6",
            "gridcolor": "white",
            "gridwidth": 2,
            "linecolor": "white",
            "showbackground": true,
            "ticks": "",
            "zerolinecolor": "white"
           },
           "yaxis": {
            "backgroundcolor": "#E5ECF6",
            "gridcolor": "white",
            "gridwidth": 2,
            "linecolor": "white",
            "showbackground": true,
            "ticks": "",
            "zerolinecolor": "white"
           },
           "zaxis": {
            "backgroundcolor": "#E5ECF6",
            "gridcolor": "white",
            "gridwidth": 2,
            "linecolor": "white",
            "showbackground": true,
            "ticks": "",
            "zerolinecolor": "white"
           }
          },
          "shapedefaults": {
           "line": {
            "color": "#2a3f5f"
           }
          },
          "ternary": {
           "aaxis": {
            "gridcolor": "white",
            "linecolor": "white",
            "ticks": ""
           },
           "baxis": {
            "gridcolor": "white",
            "linecolor": "white",
            "ticks": ""
           },
           "bgcolor": "#E5ECF6",
           "caxis": {
            "gridcolor": "white",
            "linecolor": "white",
            "ticks": ""
           }
          },
          "title": {
           "x": 0.05
          },
          "xaxis": {
           "automargin": true,
           "gridcolor": "white",
           "linecolor": "white",
           "ticks": "",
           "title": {
            "standoff": 15
           },
           "zerolinecolor": "white",
           "zerolinewidth": 2
          },
          "yaxis": {
           "automargin": true,
           "gridcolor": "white",
           "linecolor": "white",
           "ticks": "",
           "title": {
            "standoff": 15
           },
           "zerolinecolor": "white",
           "zerolinewidth": 2
          }
         }
        },
        "xaxis": {
         "anchor": "y",
         "domain": [
          0,
          1
         ],
         "title": {
          "text": "age"
         }
        },
        "yaxis": {
         "anchor": "x",
         "domain": [
          0,
          1
         ],
         "title": {
          "text": "price"
         }
        }
       }
      },
      "text/html": [
       "<div>                            <div id=\"0e6bb914-24fd-4d84-a34a-bb3a1c565dd6\" class=\"plotly-graph-div\" style=\"height:525px; width:100%;\"></div>            <script type=\"text/javascript\">                require([\"plotly\"], function(Plotly) {                    window.PLOTLYENV=window.PLOTLYENV || {};                                    if (document.getElementById(\"0e6bb914-24fd-4d84-a34a-bb3a1c565dd6\")) {                    Plotly.newPlot(                        \"0e6bb914-24fd-4d84-a34a-bb3a1c565dd6\",                        [{\"hovertemplate\":\"manufacturer=acura<br>age=%{x}<br>price=%{y}<extra></extra>\",\"legendgroup\":\"acura\",\"marker\":{\"color\":\"#636efa\",\"symbol\":\"circle\"},\"mode\":\"markers\",\"name\":\"acura\",\"orientation\":\"v\",\"showlegend\":true,\"x\":[17],\"xaxis\":\"x\",\"y\":[3999.0],\"yaxis\":\"y\",\"type\":\"scatter\"},{\"hovertemplate\":\"manufacturer=buick<br>age=%{x}<br>price=%{y}<extra></extra>\",\"legendgroup\":\"buick\",\"marker\":{\"color\":\"#EF553B\",\"symbol\":\"circle\"},\"mode\":\"markers\",\"name\":\"buick\",\"orientation\":\"v\",\"showlegend\":true,\"x\":[10,15,16,17],\"xaxis\":\"x\",\"y\":[0.0,6436.25,5018.333333333333,4929.4],\"yaxis\":\"y\",\"type\":\"scatter\"},{\"hovertemplate\":\"manufacturer=chevrolet<br>age=%{x}<br>price=%{y}<extra></extra>\",\"legendgroup\":\"chevrolet\",\"marker\":{\"color\":\"#00cc96\",\"symbol\":\"circle\"},\"mode\":\"markers\",\"name\":\"chevrolet\",\"orientation\":\"v\",\"showlegend\":true,\"x\":[5,6,7,8,9,10,11,12,13,14,15,16,17,18,19,20,21,22,23,25,28],\"xaxis\":\"x\",\"y\":[25188.8,28495.0,16125.166666666666,10999.0,13995.0,13897.2,14630.0,3850.0,2800.0,4285.615384615385,4362.727272727273,4025.777777777778,3395.0,4471.25,3574.6666666666665,1687.0,3936.125,3208.0,4935.0,2650.0,2231.6666666666665],\"yaxis\":\"y\",\"type\":\"scatter\"},{\"hovertemplate\":\"manufacturer=chrysler<br>age=%{x}<br>price=%{y}<extra></extra>\",\"legendgroup\":\"chrysler\",\"marker\":{\"color\":\"#ab63fa\",\"symbol\":\"circle\"},\"mode\":\"markers\",\"name\":\"chrysler\",\"orientation\":\"v\",\"showlegend\":true,\"x\":[1,2,3,4,5,6,7,8,9,10,11,12,13,14,15,16,17,18,19,20,21,22,23,24,26],\"xaxis\":\"x\",\"y\":[0.0,38931.692307692305,22736.4,18455.777777777777,13561.0,11616.947368421053,10620.923076923076,8908.921052631578,8274.406779661016,8619.967741935483,8150.128205128205,6787.329411764706,5892.615384615385,5776.551282051282,4577.241379310345,6626.170212765957,3077.0,3448.3333333333335,3467.04,3566.0625,3506.5833333333335,3000.0,3000.0,7250.0,1000.0],\"yaxis\":\"y\",\"type\":\"scatter\"},{\"hovertemplate\":\"manufacturer=dodge<br>age=%{x}<br>price=%{y}<extra></extra>\",\"legendgroup\":\"dodge\",\"marker\":{\"color\":\"#FFA15A\",\"symbol\":\"circle\"},\"mode\":\"markers\",\"name\":\"dodge\",\"orientation\":\"v\",\"showlegend\":true,\"x\":[1,2,3,4,5,6,7,8,9,10,11,12,13,14,15,16,17,18,19,20,21,22,23,24,25,26,28,35],\"xaxis\":\"x\",\"y\":[35785.0,22035.875,21060.231884057972,16909.434782608696,13235.035714285714,11624.361111111111,7839.523076923077,9382.22480620155,7154.954545454545,8197.686274509804,5518.268292682927,6350.463768115942,4930.928571428572,4524.2467532467535,4766.228571428572,4148.911764705882,4131.0,2918.8,3904.8947368421054,4088.9375,5970.0,2524.25,3060.0,3487.5,2035.0,3250.0,950.0,0.0],\"yaxis\":\"y\",\"type\":\"scatter\"},{\"hovertemplate\":\"manufacturer=ford<br>age=%{x}<br>price=%{y}<extra></extra>\",\"legendgroup\":\"ford\",\"marker\":{\"color\":\"#19d3f3\",\"symbol\":\"circle\"},\"mode\":\"markers\",\"name\":\"ford\",\"orientation\":\"v\",\"showlegend\":true,\"x\":[2,3,4,5,6,7,8,9,10,11,12,14,15,16,17,18,19,20,21,22,23,24,25,26,28,31,33,66],\"xaxis\":\"x\",\"y\":[34325.25,20991.666666666668,22553.777777777777,21784.842105263157,18646.842105263157,15427.0,12936.833333333334,8869.954545454546,10879.4,6000.0,9247.333333333334,11995.0,3831.6666666666665,3034.25,3223.8333333333335,3087.230769230769,3828.0,1903.3333333333333,2148.75,3125.1666666666665,1000.0,5412.5,2775.0,4125.0,730.0,700.0,500.0,29000.0],\"yaxis\":\"y\",\"type\":\"scatter\"},{\"hovertemplate\":\"manufacturer=gmc<br>age=%{x}<br>price=%{y}<extra></extra>\",\"legendgroup\":\"gmc\",\"marker\":{\"color\":\"#FF6692\",\"symbol\":\"circle\"},\"mode\":\"markers\",\"name\":\"gmc\",\"orientation\":\"v\",\"showlegend\":true,\"x\":[4,5,8,15,18,19,22,23,25],\"xaxis\":\"x\",\"y\":[29500.0,17695.0,10995.0,15000.0,3900.0,6500.0,2050.0,5777.5,4993.0],\"yaxis\":\"y\",\"type\":\"scatter\"},{\"hovertemplate\":\"manufacturer=honda<br>age=%{x}<br>price=%{y}<extra></extra>\",\"legendgroup\":\"honda\",\"marker\":{\"color\":\"#B6E880\",\"symbol\":\"circle\"},\"mode\":\"markers\",\"name\":\"honda\",\"orientation\":\"v\",\"showlegend\":true,\"x\":[2,3,4,5,6,7,8,9,10,11,12,13,14,15,16,17,18,19,20,21,22,23,25],\"xaxis\":\"x\",\"y\":[34367.38461538462,21947.037037037036,24556.125,16550.85714285714,21358.380952380954,16634.208333333332,13313.777777777777,13838.298245614034,11472.715789473685,9330.115942028986,7337.487804878048,6466.7692307692305,5729.671232876713,5280.576388888889,4657.186274509804,4077.9444444444443,3474.2926829268295,2938.72,2553.4285714285716,2704.8125,2300.0,2287.25,1450.0],\"yaxis\":\"y\",\"type\":\"scatter\"},{\"hovertemplate\":\"manufacturer=hyundai<br>age=%{x}<br>price=%{y}<extra></extra>\",\"legendgroup\":\"hyundai\",\"marker\":{\"color\":\"#FF97FF\",\"symbol\":\"circle\"},\"mode\":\"markers\",\"name\":\"hyundai\",\"orientation\":\"v\",\"showlegend\":true,\"x\":[12,13,14,15,16],\"xaxis\":\"x\",\"y\":[5500.0,0.0,5784.75,4811.125,2800.0],\"yaxis\":\"y\",\"type\":\"scatter\"},{\"hovertemplate\":\"manufacturer=kia<br>age=%{x}<br>price=%{y}<extra></extra>\",\"legendgroup\":\"kia\",\"marker\":{\"color\":\"#FECB52\",\"symbol\":\"circle\"},\"mode\":\"markers\",\"name\":\"kia\",\"orientation\":\"v\",\"showlegend\":true,\"x\":[4,5,6,7,8,10,11,12,13,14,15,16,17,18,19,20],\"xaxis\":\"x\",\"y\":[26812.333333333332,13654.0,8223.5,10224.333333333334,8797.0,5405.583333333333,5915.555555555556,4168.2,4641.875,3416.75,4030.0,2170.909090909091,1739.9375,4147.5,4500.0,3477.0],\"yaxis\":\"y\",\"type\":\"scatter\"},{\"hovertemplate\":\"manufacturer=lexus<br>age=%{x}<br>price=%{y}<extra></extra>\",\"legendgroup\":\"lexus\",\"marker\":{\"color\":\"#636efa\",\"symbol\":\"circle\"},\"mode\":\"markers\",\"name\":\"lexus\",\"orientation\":\"v\",\"showlegend\":true,\"x\":[15],\"xaxis\":\"x\",\"y\":[6500.0],\"yaxis\":\"y\",\"type\":\"scatter\"},{\"hovertemplate\":\"manufacturer=mazda<br>age=%{x}<br>price=%{y}<extra></extra>\",\"legendgroup\":\"mazda\",\"marker\":{\"color\":\"#EF553B\",\"symbol\":\"circle\"},\"mode\":\"markers\",\"name\":\"mazda\",\"orientation\":\"v\",\"showlegend\":true,\"x\":[7,8,9,10,11,12,13,14,15,16,17,18,19,20,21,22],\"xaxis\":\"x\",\"y\":[9668.42857142857,8723.75,5447.777777777777,7148.8,4500.0,4980.909090909091,3231.5555555555557,5005.8,2966.6666666666665,3395.0,2716.3333333333335,2375.0,2442.0,1797.5,1625.0,2500.0],\"yaxis\":\"y\",\"type\":\"scatter\"},{\"hovertemplate\":\"manufacturer=mercedes-benz<br>age=%{x}<br>price=%{y}<extra></extra>\",\"legendgroup\":\"mercedes-benz\",\"marker\":{\"color\":\"#00cc96\",\"symbol\":\"circle\"},\"mode\":\"markers\",\"name\":\"mercedes-benz\",\"orientation\":\"v\",\"showlegend\":true,\"x\":[3,4,6,10,14,15,16],\"xaxis\":\"x\",\"y\":[0.0,19400.0,39450.0,16500.0,7000.0,6100.0,3250.0],\"yaxis\":\"y\",\"type\":\"scatter\"},{\"hovertemplate\":\"manufacturer=mercury<br>age=%{x}<br>price=%{y}<extra></extra>\",\"legendgroup\":\"mercury\",\"marker\":{\"color\":\"#ab63fa\",\"symbol\":\"circle\"},\"mode\":\"markers\",\"name\":\"mercury\",\"orientation\":\"v\",\"showlegend\":true,\"x\":[16,18,19,20,21,22,24],\"xaxis\":\"x\",\"y\":[3500.0,2533.3333333333335,2550.0,2649.5,3395.0,2700.0,6000.0],\"yaxis\":\"y\",\"type\":\"scatter\"},{\"hovertemplate\":\"manufacturer=mini<br>age=%{x}<br>price=%{y}<extra></extra>\",\"legendgroup\":\"mini\",\"marker\":{\"color\":\"#FFA15A\",\"symbol\":\"circle\"},\"mode\":\"markers\",\"name\":\"mini\",\"orientation\":\"v\",\"showlegend\":true,\"x\":[5,7,10,11,12,13,16,17,22,26],\"xaxis\":\"x\",\"y\":[16880.0,17366.0,7991.0,8750.0,6950.0,4500.0,5991.0,5400.0,1500.0,2900.0],\"yaxis\":\"y\",\"type\":\"scatter\"},{\"hovertemplate\":\"manufacturer=mitsubishi<br>age=%{x}<br>price=%{y}<extra></extra>\",\"legendgroup\":\"mitsubishi\",\"marker\":{\"color\":\"#19d3f3\",\"symbol\":\"circle\"},\"mode\":\"markers\",\"name\":\"mitsubishi\",\"orientation\":\"v\",\"showlegend\":true,\"x\":[27,31],\"xaxis\":\"x\",\"y\":[14500.0,10000.0],\"yaxis\":\"y\",\"type\":\"scatter\"},{\"hovertemplate\":\"manufacturer=nissan<br>age=%{x}<br>price=%{y}<extra></extra>\",\"legendgroup\":\"nissan\",\"marker\":{\"color\":\"#FF6692\",\"symbol\":\"circle\"},\"mode\":\"markers\",\"name\":\"nissan\",\"orientation\":\"v\",\"showlegend\":true,\"x\":[2,3,4,5,6,7,8,9,10,11,12,13,14,15,16,17,18,20,22,23,24,27,29],\"xaxis\":\"x\",\"y\":[23500.0,0.0,17072.75,12896.615384615385,7690.666666666667,13757.25,12931.0,9605.57142857143,8059.571428571428,9656.0,5500.0,4262.714285714285,5195.615384615385,4222.263157894737,3454.222222222222,3220.4285714285716,3233.3333333333335,4249.5,1600.0,3795.0,3895.0,7999.0,6830.0],\"yaxis\":\"y\",\"type\":\"scatter\"},{\"hovertemplate\":\"manufacturer=pontiac<br>age=%{x}<br>price=%{y}<extra></extra>\",\"legendgroup\":\"pontiac\",\"marker\":{\"color\":\"#B6E880\",\"symbol\":\"circle\"},\"mode\":\"markers\",\"name\":\"pontiac\",\"orientation\":\"v\",\"showlegend\":true,\"x\":[14,16,17,18,19,20,21,22,23,27],\"xaxis\":\"x\",\"y\":[2995.0,3369.0,2725.0,2287.5,3200.0,3198.3333333333335,0.0,4880.0,3700.0,2250.0],\"yaxis\":\"y\",\"type\":\"scatter\"},{\"hovertemplate\":\"manufacturer=ram<br>age=%{x}<br>price=%{y}<extra></extra>\",\"legendgroup\":\"ram\",\"marker\":{\"color\":\"#FF97FF\",\"symbol\":\"circle\"},\"mode\":\"markers\",\"name\":\"ram\",\"orientation\":\"v\",\"showlegend\":true,\"x\":[2,3,4,5,6,7,8,9,10,21,39],\"xaxis\":\"x\",\"y\":[29666.666666666668,16900.0,40000.0,17272.333333333332,16245.0,7990.285714285715,8858.4,2800.0,5599.5,2500.0,1250.0],\"yaxis\":\"y\",\"type\":\"scatter\"},{\"hovertemplate\":\"manufacturer=saturn<br>age=%{x}<br>price=%{y}<extra></extra>\",\"legendgroup\":\"saturn\",\"marker\":{\"color\":\"#FECB52\",\"symbol\":\"circle\"},\"mode\":\"markers\",\"name\":\"saturn\",\"orientation\":\"v\",\"showlegend\":true,\"x\":[16,17],\"xaxis\":\"x\",\"y\":[4749.5,3166.0],\"yaxis\":\"y\",\"type\":\"scatter\"},{\"hovertemplate\":\"manufacturer=subaru<br>age=%{x}<br>price=%{y}<extra></extra>\",\"legendgroup\":\"subaru\",\"marker\":{\"color\":\"#636efa\",\"symbol\":\"circle\"},\"mode\":\"markers\",\"name\":\"subaru\",\"orientation\":\"v\",\"showlegend\":true,\"x\":[25],\"xaxis\":\"x\",\"y\":[2500.0],\"yaxis\":\"y\",\"type\":\"scatter\"},{\"hovertemplate\":\"manufacturer=toyota<br>age=%{x}<br>price=%{y}<extra></extra>\",\"legendgroup\":\"toyota\",\"marker\":{\"color\":\"#EF553B\",\"symbol\":\"circle\"},\"mode\":\"markers\",\"name\":\"toyota\",\"orientation\":\"v\",\"showlegend\":true,\"x\":[2,3,4,5,6,7,8,9,10,11,12,13,14,15,16,17,18,19,20,21,22,23,24,26,27,29,30,35],\"xaxis\":\"x\",\"y\":[38981.18518518518,27602.071428571428,23693.0,22155.82051282051,22951.0,18490.72,15248.2,12683.822222222223,12757.0,11671.945945945947,8077.863636363636,8256.894736842105,6065.64705882353,5894.805555555556,4512.298701298701,5305.666666666667,5310.583333333333,3480.625,3215.0,3386.25,3499.153846153846,2061.0,2571.1111111111113,4000.0,1700.0,18000.0,19495.0,4187.5],\"yaxis\":\"y\",\"type\":\"scatter\"},{\"hovertemplate\":\"manufacturer=volkswagen<br>age=%{x}<br>price=%{y}<extra></extra>\",\"legendgroup\":\"volkswagen\",\"marker\":{\"color\":\"#00cc96\",\"symbol\":\"circle\"},\"mode\":\"markers\",\"name\":\"volkswagen\",\"orientation\":\"v\",\"showlegend\":true,\"x\":[8,10,11,12,13,19,20,21,22,23,27,35,38,51],\"xaxis\":\"x\",\"y\":[5799.666666666667,7363.333333333333,5824.75,6735.263157894737,5474.375,6800.0,23900.0,15995.0,8150.0,11497.5,26000.0,32500.0,5000.0,6500.0],\"yaxis\":\"y\",\"type\":\"scatter\"}],                        {\"template\":{\"data\":{\"histogram2dcontour\":[{\"type\":\"histogram2dcontour\",\"colorbar\":{\"outlinewidth\":0,\"ticks\":\"\"},\"colorscale\":[[0.0,\"#0d0887\"],[0.1111111111111111,\"#46039f\"],[0.2222222222222222,\"#7201a8\"],[0.3333333333333333,\"#9c179e\"],[0.4444444444444444,\"#bd3786\"],[0.5555555555555556,\"#d8576b\"],[0.6666666666666666,\"#ed7953\"],[0.7777777777777778,\"#fb9f3a\"],[0.8888888888888888,\"#fdca26\"],[1.0,\"#f0f921\"]]}],\"choropleth\":[{\"type\":\"choropleth\",\"colorbar\":{\"outlinewidth\":0,\"ticks\":\"\"}}],\"histogram2d\":[{\"type\":\"histogram2d\",\"colorbar\":{\"outlinewidth\":0,\"ticks\":\"\"},\"colorscale\":[[0.0,\"#0d0887\"],[0.1111111111111111,\"#46039f\"],[0.2222222222222222,\"#7201a8\"],[0.3333333333333333,\"#9c179e\"],[0.4444444444444444,\"#bd3786\"],[0.5555555555555556,\"#d8576b\"],[0.6666666666666666,\"#ed7953\"],[0.7777777777777778,\"#fb9f3a\"],[0.8888888888888888,\"#fdca26\"],[1.0,\"#f0f921\"]]}],\"heatmap\":[{\"type\":\"heatmap\",\"colorbar\":{\"outlinewidth\":0,\"ticks\":\"\"},\"colorscale\":[[0.0,\"#0d0887\"],[0.1111111111111111,\"#46039f\"],[0.2222222222222222,\"#7201a8\"],[0.3333333333333333,\"#9c179e\"],[0.4444444444444444,\"#bd3786\"],[0.5555555555555556,\"#d8576b\"],[0.6666666666666666,\"#ed7953\"],[0.7777777777777778,\"#fb9f3a\"],[0.8888888888888888,\"#fdca26\"],[1.0,\"#f0f921\"]]}],\"heatmapgl\":[{\"type\":\"heatmapgl\",\"colorbar\":{\"outlinewidth\":0,\"ticks\":\"\"},\"colorscale\":[[0.0,\"#0d0887\"],[0.1111111111111111,\"#46039f\"],[0.2222222222222222,\"#7201a8\"],[0.3333333333333333,\"#9c179e\"],[0.4444444444444444,\"#bd3786\"],[0.5555555555555556,\"#d8576b\"],[0.6666666666666666,\"#ed7953\"],[0.7777777777777778,\"#fb9f3a\"],[0.8888888888888888,\"#fdca26\"],[1.0,\"#f0f921\"]]}],\"contourcarpet\":[{\"type\":\"contourcarpet\",\"colorbar\":{\"outlinewidth\":0,\"ticks\":\"\"}}],\"contour\":[{\"type\":\"contour\",\"colorbar\":{\"outlinewidth\":0,\"ticks\":\"\"},\"colorscale\":[[0.0,\"#0d0887\"],[0.1111111111111111,\"#46039f\"],[0.2222222222222222,\"#7201a8\"],[0.3333333333333333,\"#9c179e\"],[0.4444444444444444,\"#bd3786\"],[0.5555555555555556,\"#d8576b\"],[0.6666666666666666,\"#ed7953\"],[0.7777777777777778,\"#fb9f3a\"],[0.8888888888888888,\"#fdca26\"],[1.0,\"#f0f921\"]]}],\"surface\":[{\"type\":\"surface\",\"colorbar\":{\"outlinewidth\":0,\"ticks\":\"\"},\"colorscale\":[[0.0,\"#0d0887\"],[0.1111111111111111,\"#46039f\"],[0.2222222222222222,\"#7201a8\"],[0.3333333333333333,\"#9c179e\"],[0.4444444444444444,\"#bd3786\"],[0.5555555555555556,\"#d8576b\"],[0.6666666666666666,\"#ed7953\"],[0.7777777777777778,\"#fb9f3a\"],[0.8888888888888888,\"#fdca26\"],[1.0,\"#f0f921\"]]}],\"mesh3d\":[{\"type\":\"mesh3d\",\"colorbar\":{\"outlinewidth\":0,\"ticks\":\"\"}}],\"scatter\":[{\"fillpattern\":{\"fillmode\":\"overlay\",\"size\":10,\"solidity\":0.2},\"type\":\"scatter\"}],\"parcoords\":[{\"type\":\"parcoords\",\"line\":{\"colorbar\":{\"outlinewidth\":0,\"ticks\":\"\"}}}],\"scatterpolargl\":[{\"type\":\"scatterpolargl\",\"marker\":{\"colorbar\":{\"outlinewidth\":0,\"ticks\":\"\"}}}],\"bar\":[{\"error_x\":{\"color\":\"#2a3f5f\"},\"error_y\":{\"color\":\"#2a3f5f\"},\"marker\":{\"line\":{\"color\":\"#E5ECF6\",\"width\":0.5},\"pattern\":{\"fillmode\":\"overlay\",\"size\":10,\"solidity\":0.2}},\"type\":\"bar\"}],\"scattergeo\":[{\"type\":\"scattergeo\",\"marker\":{\"colorbar\":{\"outlinewidth\":0,\"ticks\":\"\"}}}],\"scatterpolar\":[{\"type\":\"scatterpolar\",\"marker\":{\"colorbar\":{\"outlinewidth\":0,\"ticks\":\"\"}}}],\"histogram\":[{\"marker\":{\"pattern\":{\"fillmode\":\"overlay\",\"size\":10,\"solidity\":0.2}},\"type\":\"histogram\"}],\"scattergl\":[{\"type\":\"scattergl\",\"marker\":{\"colorbar\":{\"outlinewidth\":0,\"ticks\":\"\"}}}],\"scatter3d\":[{\"type\":\"scatter3d\",\"line\":{\"colorbar\":{\"outlinewidth\":0,\"ticks\":\"\"}},\"marker\":{\"colorbar\":{\"outlinewidth\":0,\"ticks\":\"\"}}}],\"scattermapbox\":[{\"type\":\"scattermapbox\",\"marker\":{\"colorbar\":{\"outlinewidth\":0,\"ticks\":\"\"}}}],\"scatterternary\":[{\"type\":\"scatterternary\",\"marker\":{\"colorbar\":{\"outlinewidth\":0,\"ticks\":\"\"}}}],\"scattercarpet\":[{\"type\":\"scattercarpet\",\"marker\":{\"colorbar\":{\"outlinewidth\":0,\"ticks\":\"\"}}}],\"carpet\":[{\"aaxis\":{\"endlinecolor\":\"#2a3f5f\",\"gridcolor\":\"white\",\"linecolor\":\"white\",\"minorgridcolor\":\"white\",\"startlinecolor\":\"#2a3f5f\"},\"baxis\":{\"endlinecolor\":\"#2a3f5f\",\"gridcolor\":\"white\",\"linecolor\":\"white\",\"minorgridcolor\":\"white\",\"startlinecolor\":\"#2a3f5f\"},\"type\":\"carpet\"}],\"table\":[{\"cells\":{\"fill\":{\"color\":\"#EBF0F8\"},\"line\":{\"color\":\"white\"}},\"header\":{\"fill\":{\"color\":\"#C8D4E3\"},\"line\":{\"color\":\"white\"}},\"type\":\"table\"}],\"barpolar\":[{\"marker\":{\"line\":{\"color\":\"#E5ECF6\",\"width\":0.5},\"pattern\":{\"fillmode\":\"overlay\",\"size\":10,\"solidity\":0.2}},\"type\":\"barpolar\"}],\"pie\":[{\"automargin\":true,\"type\":\"pie\"}]},\"layout\":{\"autotypenumbers\":\"strict\",\"colorway\":[\"#636efa\",\"#EF553B\",\"#00cc96\",\"#ab63fa\",\"#FFA15A\",\"#19d3f3\",\"#FF6692\",\"#B6E880\",\"#FF97FF\",\"#FECB52\"],\"font\":{\"color\":\"#2a3f5f\"},\"hovermode\":\"closest\",\"hoverlabel\":{\"align\":\"left\"},\"paper_bgcolor\":\"white\",\"plot_bgcolor\":\"#E5ECF6\",\"polar\":{\"bgcolor\":\"#E5ECF6\",\"angularaxis\":{\"gridcolor\":\"white\",\"linecolor\":\"white\",\"ticks\":\"\"},\"radialaxis\":{\"gridcolor\":\"white\",\"linecolor\":\"white\",\"ticks\":\"\"}},\"ternary\":{\"bgcolor\":\"#E5ECF6\",\"aaxis\":{\"gridcolor\":\"white\",\"linecolor\":\"white\",\"ticks\":\"\"},\"baxis\":{\"gridcolor\":\"white\",\"linecolor\":\"white\",\"ticks\":\"\"},\"caxis\":{\"gridcolor\":\"white\",\"linecolor\":\"white\",\"ticks\":\"\"}},\"coloraxis\":{\"colorbar\":{\"outlinewidth\":0,\"ticks\":\"\"}},\"colorscale\":{\"sequential\":[[0.0,\"#0d0887\"],[0.1111111111111111,\"#46039f\"],[0.2222222222222222,\"#7201a8\"],[0.3333333333333333,\"#9c179e\"],[0.4444444444444444,\"#bd3786\"],[0.5555555555555556,\"#d8576b\"],[0.6666666666666666,\"#ed7953\"],[0.7777777777777778,\"#fb9f3a\"],[0.8888888888888888,\"#fdca26\"],[1.0,\"#f0f921\"]],\"sequentialminus\":[[0.0,\"#0d0887\"],[0.1111111111111111,\"#46039f\"],[0.2222222222222222,\"#7201a8\"],[0.3333333333333333,\"#9c179e\"],[0.4444444444444444,\"#bd3786\"],[0.5555555555555556,\"#d8576b\"],[0.6666666666666666,\"#ed7953\"],[0.7777777777777778,\"#fb9f3a\"],[0.8888888888888888,\"#fdca26\"],[1.0,\"#f0f921\"]],\"diverging\":[[0,\"#8e0152\"],[0.1,\"#c51b7d\"],[0.2,\"#de77ae\"],[0.3,\"#f1b6da\"],[0.4,\"#fde0ef\"],[0.5,\"#f7f7f7\"],[0.6,\"#e6f5d0\"],[0.7,\"#b8e186\"],[0.8,\"#7fbc41\"],[0.9,\"#4d9221\"],[1,\"#276419\"]]},\"xaxis\":{\"gridcolor\":\"white\",\"linecolor\":\"white\",\"ticks\":\"\",\"title\":{\"standoff\":15},\"zerolinecolor\":\"white\",\"automargin\":true,\"zerolinewidth\":2},\"yaxis\":{\"gridcolor\":\"white\",\"linecolor\":\"white\",\"ticks\":\"\",\"title\":{\"standoff\":15},\"zerolinecolor\":\"white\",\"automargin\":true,\"zerolinewidth\":2},\"scene\":{\"xaxis\":{\"backgroundcolor\":\"#E5ECF6\",\"gridcolor\":\"white\",\"linecolor\":\"white\",\"showbackground\":true,\"ticks\":\"\",\"zerolinecolor\":\"white\",\"gridwidth\":2},\"yaxis\":{\"backgroundcolor\":\"#E5ECF6\",\"gridcolor\":\"white\",\"linecolor\":\"white\",\"showbackground\":true,\"ticks\":\"\",\"zerolinecolor\":\"white\",\"gridwidth\":2},\"zaxis\":{\"backgroundcolor\":\"#E5ECF6\",\"gridcolor\":\"white\",\"linecolor\":\"white\",\"showbackground\":true,\"ticks\":\"\",\"zerolinecolor\":\"white\",\"gridwidth\":2}},\"shapedefaults\":{\"line\":{\"color\":\"#2a3f5f\"}},\"annotationdefaults\":{\"arrowcolor\":\"#2a3f5f\",\"arrowhead\":0,\"arrowwidth\":1},\"geo\":{\"bgcolor\":\"white\",\"landcolor\":\"#E5ECF6\",\"subunitcolor\":\"white\",\"showland\":true,\"showlakes\":true,\"lakecolor\":\"white\"},\"title\":{\"x\":0.05},\"mapbox\":{\"style\":\"light\"}}},\"xaxis\":{\"anchor\":\"y\",\"domain\":[0.0,1.0],\"title\":{\"text\":\"age\"}},\"yaxis\":{\"anchor\":\"x\",\"domain\":[0.0,1.0],\"title\":{\"text\":\"price\"}},\"legend\":{\"title\":{\"text\":\"manufacturer\"},\"tracegroupgap\":0},\"margin\":{\"t\":60}},                        {\"responsive\": true}                    ).then(function(){\n",
       "                            \n",
       "var gd = document.getElementById('0e6bb914-24fd-4d84-a34a-bb3a1c565dd6');\n",
       "var x = new MutationObserver(function (mutations, observer) {{\n",
       "        var display = window.getComputedStyle(gd).display;\n",
       "        if (!display || display === 'none') {{\n",
       "            console.log([gd, 'removed!']);\n",
       "            Plotly.purge(gd);\n",
       "            observer.disconnect();\n",
       "        }}\n",
       "}});\n",
       "\n",
       "// Listen for the removal of the full notebook cells\n",
       "var notebookContainer = gd.closest('#notebook-container');\n",
       "if (notebookContainer) {{\n",
       "    x.observe(notebookContainer, {childList: true});\n",
       "}}\n",
       "\n",
       "// Listen for the clearing of the current output cell\n",
       "var outputEl = gd.closest('.output');\n",
       "if (outputEl) {{\n",
       "    x.observe(outputEl, {childList: true});\n",
       "}}\n",
       "\n",
       "                        })                };                });            </script>        </div>"
      ]
     },
     "metadata": {},
     "output_type": "display_data"
    }
   ],
   "source": [
    "import plotly.express as px\n",
    "\n",
    "fig = px.scatter(new, x='age', y='price', color='manufacturer')\n",
    "fig.show()"
   ]
  },
  {
   "cell_type": "code",
   "execution_count": 8,
   "id": "d2a20cdf",
   "metadata": {},
   "outputs": [],
   "source": [
    "from scipy.optimize import curve_fit\n",
    "import numpy as np\n",
    "import matplotlib.pyplot as plt"
   ]
  },
  {
   "cell_type": "code",
   "execution_count": 9,
   "id": "576eafd6",
   "metadata": {},
   "outputs": [],
   "source": [
    "toyota = new[new['manufacturer']=='toyota']"
   ]
  },
  {
   "cell_type": "code",
   "execution_count": 10,
   "id": "a2bbb81d",
   "metadata": {},
   "outputs": [],
   "source": [
    "def exp_func(x,a,b):\n",
    "    return a*np.exp(b*x)\n",
    "\n",
    "x_data = toyota['age'].values\n",
    "y_data = toyota['price'].values\n",
    "\n",
    "params, _ = curve_fit(exp_func, x_data, y_data)"
   ]
  },
  {
   "cell_type": "code",
   "execution_count": 11,
   "id": "3e1b5ce8",
   "metadata": {},
   "outputs": [],
   "source": [
    "x_range = np.arange(0,30,1)"
   ]
  },
  {
   "cell_type": "code",
   "execution_count": 12,
   "id": "f1e805c3",
   "metadata": {},
   "outputs": [
    {
     "data": {
      "image/png": "[encoded data removed]",
      "text/plain": [
       "<Figure size 432x288 with 1 Axes>"
      ]
     },
     "metadata": {
      "needs_background": "light"
     },
     "output_type": "display_data"
    }
   ],
   "source": [
    "plt.plot(x_data,y_data,'bo')\n",
    "plt.plot(x_range, exp_func(x_range, *params))\n",
    "plt.show()"
   ]
  },
  {
   "cell_type": "code",
   "execution_count": 47,
   "id": "2346a99d",
   "metadata": {},
   "outputs": [],
   "source": [
    "df_toyota = df[df['manufacturer']=='toyota']"
   ]
  },
  {
   "cell_type": "code",
   "execution_count": 49,
   "id": "a8708025",
   "metadata": {},
   "outputs": [],
   "source": [
    "ages = df_toyota['age'].values\n",
    "prices = df_toyota['price'].values"
   ]
  },
  {
   "cell_type": "code",
   "execution_count": 50,
   "id": "584c3b43",
   "metadata": {},
   "outputs": [
    {
     "data": {
      "image/png": "[encoded data removed]",
      "text/plain": [
       "<Figure size 432x288 with 1 Axes>"
      ]
     },
     "metadata": {
      "needs_background": "light"
     },
     "output_type": "display_data"
    }
   ],
   "source": [
    "plt.plot(ages,prices,'bo')\n",
    "plt.plot(x_range, exp_func(x_range, *params))\n",
    "plt.show()"
   ]
  },
  {
   "cell_type": "code",
   "execution_count": null,
   "id": "dfde943b",
   "metadata": {},
   "outputs": [],
   "source": []
  }
 ],
 "metadata": {
  "kernelspec": {
   "display_name": "Python 3 (ipykernel)",
   "language": "python",
   "name": "python3"
  },
  "language_info": {
   "codemirror_mode": {
    "name": "ipython",
    "version": 3
   },
   "file_extension": ".py",
   "mimetype": "text/x-python",
   "name": "python",
   "nbconvert_exporter": "python",
   "pygments_lexer": "ipython3",
   "version": "3.9.7"
  }
 },
 "nbformat": 4,
 "nbformat_minor": 5
}
